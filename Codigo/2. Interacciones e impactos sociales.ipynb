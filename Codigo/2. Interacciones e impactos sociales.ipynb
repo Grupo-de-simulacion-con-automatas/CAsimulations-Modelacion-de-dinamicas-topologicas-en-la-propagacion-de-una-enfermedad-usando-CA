{
 "cells": [
  {
   "cell_type": "markdown",
   "id": "1effb7bd-721c-4371-97da-21e8073d5275",
   "metadata": {},
   "source": [
    "# Interacciones e impactos sociales\n",
    "\n",
    "A diferencia del trabajo realizado en [1] en el que cada celda representaba una región, consideraremos a cada división como un único individuo que será dotado de un conjunto de cualidades como estado de salud, edad, vecinos, etc. Estas cualidades vendrán dadas por las necesidades del modelo que estemos desarrollando, por ejemplo en los modelos clásicos no será necesario dotar de edades a las células, pero si tendremos que tener en cuenta sus vecindades y sus estados de salud.\n",
    "\n",
    "Pensemos por un momento en las características que hay detrás de relación cercana entre individuos o células. Denotaremos la relación entre células con el símbolo $\\thicksim$ y una vez dicho esto tenemos que:\n",
    "\n",
    "*   Todas las células están en contacto con ellas mismas, por lo que para cada célula $x$ se cumple $x \\thicksim x$.\n",
    "*   Si una célula estuviera en contacto con alguna otra entonces esa célula estaría en contacto con la primera, es decir, $x\\thicksim y$ implica $y\\thicksim x$.\n",
    "*   Si una célula interactúa con otras dos no implica necesariamente que estas interactúen entre sí, por lo que $x\\thicksim y$ y $x\\thicksim z$ no implican que $y\\thicksim z$.\n",
    "\n",
    "**Ejemplo:** Consideremos por ejemplo el conjunto $A=\\{a,b,c,d\\}$ y a la sub-colección $\\mathcal{B} = \\{\\{a\\},\\{b\\},\\{c\\},\\{d\\},\\{a,c,d\\}, \\{b,c\\}, \\{b,d\\}\\}$ de $\\mathcal{P}(A)$. Claramente se obtienen las siguientes relaciones\n",
    "\n",
    "$$\\begin{array}{cccc}\n",
    "    a\\thicksim a, & b\\thicksim b, & c\\thicksim c, & d\\thicksim d, \\\\ \n",
    "    a\\thicksim c, & a\\thicksim d, & b\\thicksim c, & b\\thicksim d,\n",
    "\\end{array}$$\n",
    "\n",
    "junto con sus relaciones simétricas equivalentes. Esta noción de relación de interacción entre células puede ir un poco más allá. Pensemos por un momento en el impacto que puede tener un comportamiento sobre la célula $b$ en la célula $a$, si bien estas dos celdas no interactúan entre sí, la relación que cada una de ellas tiene con las células $c$ y $d$ puede tener un impacto sobre la otra. Con lo cual definimos la siguiente relación de interacción:\n",
    "\n",
    "**Definición:** Definimos el *grado de impacto* entre dos puntos $a$ y $b$ como la menor cantidad de interacciones necesaria para llegar de $a$ a $b$. Para reconocer el grado de impacto entre dos puntos usaremos la notación $a\\thicksim_n b$ donde $n\\in\\mathbb{N}$ denota la menor cantidad de interacciones entre $a$ y $b$.\n",
    "\n",
    "Si retomamos el ejemplo 3.1.1 podremos identificar los siguientes grados de impacto:\n",
    "\n",
    "$$\\begin{array}{cccc}\n",
    "    a\\thicksim_0 a, & b\\thicksim_0 b, & c\\thicksim_0 c, & d\\thicksim_0 d, \\\\ \n",
    "    a\\thicksim_1 c, & a\\thicksim_1 d, & b\\thicksim_1 c, & b\\thicksim_1 d, \\\\\n",
    "    a\\thicksim_2 b, & c\\thicksim_2 d.\n",
    "\\end{array}$$\n",
    "\n",
    "De la definición anterior se deduce el siguiente resultado:\n",
    "\n",
    "**Teorema:** Los grados de impacto de una célula $x$ definen un sistema fundamental de vecindades en la topología discreta.\n",
    "\n",
    "Demostración: Sea $x\\in\\mathcal{L}$ y $\\mathcal{V}(x)$ una familia de vecindades de $x$. Defina el conjunto $A_0=\\{x\\}$ como el conjunto de puntos con grado de impacto con $x$ es igual a cero y a continuación defina de manera recursiva a los conjuntos $A_k$ cuyos elementos tienen grado de impacto con $x$ sea igual o menor a $k$. Claramente $A_i\\subseteq A_j$ para $0\\leq i\\leq j$ y de ese modo $A_i\\in\\mathcal{V}(x)$ para $i=0,1,\\cdots,n$.\n",
    "\n",
    "Defina la colección $\\mathcal{A}=\\{A_0,A_1,\\cdots,A_k,\\cdots,A_N\\}$ como la familia de conjuntos encajados definidos por el grado de impacto con $x$. Dado que por hipótesis estamos sobre la topología discreta podemos afirmar que para todo $V\\in\\mathcal{V}(x)$ el conjunto $A_0\\subseteq V$ y de ese modo por la definición 2.4.8 concluimos que la colección $\\mathcal{A}$ es un sistema fundamental de vecindades de $x$.\n",
    "\n",
    "A continuación mostraremos algunas de las propiedades del conjunto $\\mathcal{A}$ definido en la demostración anterior:\n",
    "\n",
    "**Proposición:** Sea $x\\in\\mathcal{L}$ una célula y sea $\\mathcal{A}$ la familia de conjuntos encajados definidos por el grado de impacto con $x$. Se cumplen las siguientes propiedades:\n",
    "\n",
    "1.  El conjunto $\\mathcal{A}$ posee elemento mínima igual a $A_0=\\{x\\}$,\n",
    "2.  $\\mathcal{A}$ es un conjunto ordenado finito con el orden de la contenencia,\n",
    "3.  $\\mathcal{L}$ es un espacio $T_0$, y\n",
    "4.  $\\mathcal{L}$ es un espacio uno-numerable.\n",
    "\n",
    "A continuación se presentan ejemplos para el manejo e implementación de los sistemas fundamentales de vecindades que describen las interacciones sobre algún sistema:"
   ]
  },
  {
   "cell_type": "code",
   "execution_count": 1,
   "id": "6d43bbf4-14eb-47ec-8c8a-f57276669046",
   "metadata": {
    "tags": []
   },
   "outputs": [
    {
     "data": {
      "text/plain": [
       "[[[0, 0],\n",
       "  array([[1., 1., 1.],\n",
       "         [1., 1., 1.],\n",
       "         [1., 1., 1.]])],\n",
       " [[0, 1],\n",
       "  array([[1., 1., 1.],\n",
       "         [1., 1., 1.],\n",
       "         [1., 1., 1.]])],\n",
       " [[0, 2],\n",
       "  array([[1., 1., 0.],\n",
       "         [1., 1., 1.],\n",
       "         [1., 1., 1.]])],\n",
       " [[1, 0],\n",
       "  array([[1., 1., 1.],\n",
       "         [1., 1., 1.],\n",
       "         [1., 1., 1.]])],\n",
       " [[1, 1],\n",
       "  array([[1., 1., 1.],\n",
       "         [1., 1., 1.],\n",
       "         [1., 1., 1.]])],\n",
       " [[1, 2],\n",
       "  array([[1., 1., 1.],\n",
       "         [1., 1., 0.],\n",
       "         [1., 1., 1.]])],\n",
       " [[2, 0],\n",
       "  array([[1., 1., 1.],\n",
       "         [1., 1., 1.],\n",
       "         [1., 1., 1.]])],\n",
       " [[2, 1],\n",
       "  array([[1., 1., 1.],\n",
       "         [1., 1., 1.],\n",
       "         [1., 1., 1.]])],\n",
       " [[2, 2],\n",
       "  array([[1., 1., 1.],\n",
       "         [1., 1., 1.],\n",
       "         [1., 1., 1.]])]]"
      ]
     },
     "execution_count": 1,
     "metadata": {},
     "output_type": "execute_result"
    }
   ],
   "source": [
    "from EpidemiologicalModels.epidemiologicalModelsInCA import *\n",
    "\n",
    "# Ejemplo 1: Sistemas de vecindades básicos generados a partir de vecindades especificas o aleatoreamente.\n",
    "\n",
    "# Ejemplo 1.1: \n",
    "cellSpace_ex1 = CellSpace(3,3)  # Espacio de células con dimensión igual a 3x3\n",
    "GenerateNeighborhoodSystem(cellSpace_ex1)  # Sistema de vecindades generado aleatoriamente"
   ]
  },
  {
   "cell_type": "code",
   "execution_count": 2,
   "id": "311f4877-2bb3-436b-8a41-d5cab1a0329d",
   "metadata": {
    "tags": []
   },
   "outputs": [
    {
     "data": {
      "text/plain": [
       "[[[0, 0],\n",
       "  array([[0., 0., 1.],\n",
       "         [0., 0., 1.],\n",
       "         [1., 1., 1.]])],\n",
       " [[0, 1],\n",
       "  array([[0., 0., 0.],\n",
       "         [0., 0., 0.],\n",
       "         [1., 1., 1.]])],\n",
       " [[0, 2],\n",
       "  array([[1., 0., 0.],\n",
       "         [1., 0., 0.],\n",
       "         [1., 1., 1.]])],\n",
       " [[1, 0],\n",
       "  array([[0., 0., 1.],\n",
       "         [0., 0., 1.],\n",
       "         [0., 0., 1.]])],\n",
       " [[1, 1],\n",
       "  array([[0., 0., 0.],\n",
       "         [0., 0., 0.],\n",
       "         [0., 0., 0.]])],\n",
       " [[1, 2],\n",
       "  array([[1., 0., 0.],\n",
       "         [1., 0., 0.],\n",
       "         [1., 0., 0.]])],\n",
       " [[2, 0],\n",
       "  array([[1., 1., 1.],\n",
       "         [0., 0., 1.],\n",
       "         [0., 0., 1.]])],\n",
       " [[2, 1],\n",
       "  array([[1., 1., 1.],\n",
       "         [0., 0., 0.],\n",
       "         [0., 0., 0.]])],\n",
       " [[2, 2],\n",
       "  array([[1., 1., 1.],\n",
       "         [1., 0., 0.],\n",
       "         [1., 0., 0.]])]]"
      ]
     },
     "execution_count": 2,
     "metadata": {},
     "output_type": "execute_result"
    }
   ],
   "source": [
    "# Ejemplo 1.2:\n",
    "GenerateNeighborhoodSystem(cellSpace_ex1,\"Moore\")  # Sistema de vecindades generado a partir de las vecindades de Moore"
   ]
  },
  {
   "cell_type": "code",
   "execution_count": 3,
   "id": "a5a783ea-8550-4d89-b650-36e4f209fd28",
   "metadata": {
    "tags": []
   },
   "outputs": [
    {
     "data": {
      "text/plain": [
       "[[[0, 0],\n",
       "  array([[0., 0., 1.],\n",
       "         [0., 1., 1.],\n",
       "         [1., 1., 1.]])],\n",
       " [[0, 1],\n",
       "  array([[0., 0., 0.],\n",
       "         [1., 0., 1.],\n",
       "         [1., 1., 1.]])],\n",
       " [[0, 2],\n",
       "  array([[1., 0., 0.],\n",
       "         [1., 1., 0.],\n",
       "         [1., 1., 1.]])],\n",
       " [[1, 0],\n",
       "  array([[0., 1., 1.],\n",
       "         [0., 0., 1.],\n",
       "         [0., 1., 1.]])],\n",
       " [[1, 1],\n",
       "  array([[1., 0., 1.],\n",
       "         [0., 0., 0.],\n",
       "         [1., 0., 1.]])],\n",
       " [[1, 2],\n",
       "  array([[1., 1., 0.],\n",
       "         [1., 0., 0.],\n",
       "         [1., 1., 0.]])],\n",
       " [[2, 0],\n",
       "  array([[1., 1., 1.],\n",
       "         [0., 1., 1.],\n",
       "         [0., 0., 1.]])],\n",
       " [[2, 1],\n",
       "  array([[1., 1., 1.],\n",
       "         [1., 0., 1.],\n",
       "         [0., 0., 0.]])],\n",
       " [[2, 2],\n",
       "  array([[1., 1., 1.],\n",
       "         [1., 1., 0.],\n",
       "         [1., 0., 0.]])]]"
      ]
     },
     "execution_count": 3,
     "metadata": {},
     "output_type": "execute_result"
    }
   ],
   "source": [
    "# Ejemplo 1.3:\n",
    "GenerateNeighborhoodSystem(cellSpace_ex1,\"Von Neumann\")  # Sistema de vecindades generado a partir de las vecindades de Von Neumann"
   ]
  },
  {
   "cell_type": "code",
   "execution_count": 4,
   "id": "e8b54fde-4771-4667-97ff-46ae05e3906d",
   "metadata": {
    "tags": []
   },
   "outputs": [
    {
     "data": {
      "text/plain": [
       "[[[0, 0],\n",
       "  array([[0, 1, 1],\n",
       "         [1, 2, 1],\n",
       "         [1, 2, 1]])],\n",
       " [[0, 1],\n",
       "  array([[1, 0, 0],\n",
       "         [1, 2, 1],\n",
       "         [1, 2, 1]])],\n",
       " [[0, 2],\n",
       "  array([[1, 0, 0],\n",
       "         [1, 2, 1],\n",
       "         [1, 2, 1]])],\n",
       " [[1, 0],\n",
       "  array([[1, 1, 1],\n",
       "         [0, 2, 1],\n",
       "         [0, 2, 1]])],\n",
       " [[1, 1],\n",
       "  array([[2, 2, 2],\n",
       "         [2, 0, 2],\n",
       "         [2, 0, 2]])],\n",
       " [[1, 2],\n",
       "  array([[1, 1, 1],\n",
       "         [1, 2, 0],\n",
       "         [1, 2, 1]])],\n",
       " [[2, 0],\n",
       "  array([[1, 1, 1],\n",
       "         [0, 2, 1],\n",
       "         [0, 2, 1]])],\n",
       " [[2, 1],\n",
       "  array([[2, 2, 2],\n",
       "         [2, 0, 2],\n",
       "         [2, 0, 2]])],\n",
       " [[2, 2],\n",
       "  array([[1, 1, 1],\n",
       "         [1, 2, 1],\n",
       "         [1, 2, 0]])]]"
      ]
     },
     "execution_count": 4,
     "metadata": {},
     "output_type": "execute_result"
    }
   ],
   "source": [
    "# Ejemplo 2: Matrices de interacción definidos manualmente\n",
    "\n",
    "import numpy as np\n",
    "\n",
    "x00 = [[0,0], np.array([[0,1,1], [1,2,1], [1,2,1]])]\n",
    "x01 = [[0,1], np.array([[1,0,0], [1,2,1], [1,2,1]])]\n",
    "x02 = [[0,2], np.array([[1,0,0], [1,2,1], [1,2,1]])]\n",
    "x10 = [[1,0], np.array([[1,1,1], [0,2,1], [0,2,1]])]\n",
    "x11 = [[1,1], np.array([[2,2,2], [2,0,2], [2,0,2]])]\n",
    "x12 = [[1,2], np.array([[1,1,1], [1,2,0], [1,2,1]])]\n",
    "x20 = [[2,0], np.array([[1,1,1], [0,2,1], [0,2,1]])]\n",
    "x21 = [[2,1], np.array([[2,2,2], [2,0,2], [2,0,2]])]\n",
    "x22 = [[2,2], np.array([[1,1,1], [1,2,1], [1,2,0]])]\n",
    "\n",
    "neighborhoodSystem_ex2 = [x00, x01, x02, x10, x11, x12, x20, x21, x22]\n",
    "neighborhoodSystem_ex2"
   ]
  }
 ],
 "metadata": {
  "kernelspec": {
   "display_name": "Python 3",
   "language": "python",
   "name": "python3"
  },
  "language_info": {
   "codemirror_mode": {
    "name": "ipython",
    "version": 3
   },
   "file_extension": ".py",
   "mimetype": "text/x-python",
   "name": "python",
   "nbconvert_exporter": "python",
   "pygments_lexer": "ipython3",
   "version": "3.8.8"
  }
 },
 "nbformat": 4,
 "nbformat_minor": 5
}
