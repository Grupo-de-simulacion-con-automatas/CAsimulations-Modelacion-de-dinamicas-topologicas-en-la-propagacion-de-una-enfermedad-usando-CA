{
 "cells": [
  {
   "cell_type": "markdown",
   "id": "48957486-6dfd-4166-9c25-e64c3fb625fd",
   "metadata": {},
   "source": [
    "# Modelos epidemiológicos en autómatas celulares\n",
    "\n",
    "En el siguiente cuadernillo abordaremos varios de los ejemplos descritos en el capítulo 3 del [documento](https://github.com/Grupo-de-simulacion-con-automatas/CAsimulations-Modelacion-de-dinamicas-topologicas-en-la-propagacion-de-una-enfermedad-usando-CA/blob/master/Documentos/Proyecto_de_grado.pdf), esto con el objetivo de brindar al lector la posibilidad de replicar cada uno de los casos analizados.\n",
    "\n",
    "## Interacciones e impactos sociales\n",
    "\n",
    "### Ejemplo 3.1.5:\n",
    "Consideremos las siguientes matrices que describen los grados de impacto en tres distintos sistemas fundamentales de vecindades para la célula en la posición 2,2:\n",
    "\n",
    "![Grados de impacto en diferentes sistemas de vecindades.](https://github.com/Grupo-de-simulacion-con-automatas/CAsimulations-Modelacion-de-dinamicas-topologicas-en-la-propagacion-de-una-enfermedad-usando-CA/blob/master/Documentos/Proyecto%20de%20grado/Imagenes/ex315.PNG)\n",
    "\n",
    "En la figura anterior podemos ver que debido a la manera en la que implementamos nuestro espacio de células, es posible representar los grados de impacto de cada una con una célula particular en un arreglo matricial, al igual que los estados de cada célula como se vio en el capítulo dos.\n",
    "\n",
    "La asignación entre grados y tasas de impacto puede escogerse de cualquier manera dependiendo del contexto y la enfermedad que esté modelando. Para los efectos del ejemplo, consideraremos las siguientes matrices de tasas de impacto:\n",
    "\n",
    "![Tasas de impacto en diferentes sistemas de vecindades.](https://github.com/Grupo-de-simulacion-con-automatas/CAsimulations-Modelacion-de-dinamicas-topologicas-en-la-propagacion-de-una-enfermedad-usando-CA/blob/master/Documentos/Proyecto%20de%20grado/Imagenes/ex3152.PNG)\n",
    "\n",
    "La librería CAsimulations nos permite parametrizar este tipo de escenarios, como se muestra a continuación:"
   ]
  },
  {
   "cell_type": "code",
   "execution_count": 1,
   "id": "6d43bbf4-14eb-47ec-8c8a-f57276669046",
   "metadata": {
    "tags": []
   },
   "outputs": [
    {
     "data": {
      "text/plain": [
       "array([[0., 0., 0., 0., 0.],\n",
       "       [0., 0., 0., 0., 0.],\n",
       "       [0., 0., 0., 0., 0.],\n",
       "       [0., 0., 0., 0., 0.],\n",
       "       [0., 0., 0., 0., 0.]])"
      ]
     },
     "execution_count": 1,
     "metadata": {},
     "output_type": "execute_result"
    }
   ],
   "source": [
    "# Inicialmente se importa la librería\n",
    "from EpidemiologicalModels.epidemiologicalModelsInCA import *\n",
    "\n",
    "# Establecemos un conjunto de células cualquiera\n",
    "cellSpace_ex1 = CellSpace(5,5)  # Espacio de células con dimensión igual a 5x5\n",
    "cellSpace_ex1.system"
   ]
  },
  {
   "cell_type": "code",
   "execution_count": 2,
   "id": "311f4877-2bb3-436b-8a41-d5cab1a0329d",
   "metadata": {
    "tags": []
   },
   "outputs": [
    {
     "data": {
      "text/plain": [
       "[[1, 1],\n",
       " array([[2, 1, 3, 0, 2],\n",
       "        [0, 0, 2, 1, 0],\n",
       "        [0, 0, 2, 3, 1],\n",
       "        [3, 1, 1, 0, 2],\n",
       "        [0, 2, 1, 0, 3]])]"
      ]
     },
     "execution_count": 2,
     "metadata": {},
     "output_type": "execute_result"
    }
   ],
   "source": [
    "# Ejemplo 2: Matrices de interacción definidos manualmente\n",
    "\n",
    "import numpy as np\n",
    "\n",
    "# Sistemas de vecindades para la posición 2,2 con sus respectivos grados de impacto\n",
    "x11_VonNeumann = [[1,1], np.array([[1,0,1,1,1], [0,0,0,1,1], [1,0,1,1,1], [1,1,1,1,1], [1,1,1,1,1]])]\n",
    "x11_Moore2 = [[1,1], np.array([[0,0,0,1,2], [0,0,0,1,2], [0,0,0,1,2], [1,1,1,1,2], [2,2,2,2,2]])]\n",
    "x11_SFV1 = [[1,1], np.array([[2,1,3,0,2], [0,0,2,1,0], [0,0,2,3,1], [3,1,1,0,2], [0,2,1,0,3]])]\n",
    "\n",
    "x11_SFV1"
   ]
  },
  {
   "cell_type": "code",
   "execution_count": 3,
   "id": "1604c1ca-606b-475b-acc9-7b1b6dd6cfb5",
   "metadata": {},
   "outputs": [],
   "source": [
    "# Tasas de impacto\n",
    "impactGrades_VonNeumann = [1,0]  # Para los grados [0,1]\n",
    "impactGrades_Moore2 = [1,0.5,0]  # Para los grados [0,1,2]\n",
    "impactGrades_SFV1 = [0.5,0.25,0.1,0]  # Para los grados [0,1,2,3]"
   ]
  }
 ],
 "metadata": {
  "kernelspec": {
   "display_name": "Python 3",
   "language": "python",
   "name": "python3"
  },
  "language_info": {
   "codemirror_mode": {
    "name": "ipython",
    "version": 3
   },
   "file_extension": ".py",
   "mimetype": "text/x-python",
   "name": "python",
   "nbconvert_exporter": "python",
   "pygments_lexer": "ipython3",
   "version": "3.8.8"
  }
 },
 "nbformat": 4,
 "nbformat_minor": 5
}
