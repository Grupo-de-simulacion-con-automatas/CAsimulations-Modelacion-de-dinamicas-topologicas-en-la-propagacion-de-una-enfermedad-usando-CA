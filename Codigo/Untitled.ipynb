{
 "cells": [
  {
   "cell_type": "code",
   "execution_count": 1,
   "id": "5ecb707b-32f3-47c5-aa4b-e2c8bbb9f700",
   "metadata": {},
   "outputs": [],
   "source": [
    "from EpidemiologicalModels.epidemiologicalModelsInCA import *\n",
    "import numpy as np"
   ]
  },
  {
   "cell_type": "code",
   "execution_count": 4,
   "id": "9563b33a-0be1-48cb-a20f-327fbf4ef615",
   "metadata": {},
   "outputs": [],
   "source": [
    "from EpidemiologicalModels.epidemiologicalModelsInCA import *\n",
    "import numpy as np\n",
    "\n",
    "a = CellSpace(9,9).initialLocationOfInfected(0.1)\n",
    "b = GenerateNeighborhoodSystem(a,\"moore\")\n",
    "c = CreateAgeMatrix([[0,100,1]],a)\n",
    "\n",
    "# sir_bm = SIR_DD(0.2,0.5,2,[[0,100,0.0005]],[[0,100,0.0005]],365,10,a,b,[1,0],c)\n",
    "sir_bm = medium_SIS(0.2,0.5,0.1,10,3,a,b,[1,0])"
   ]
  },
  {
   "cell_type": "code",
   "execution_count": 5,
   "id": "5bf287f1-bcd9-49b3-97f3-882eb8799bc6",
   "metadata": {},
   "outputs": [
    {
     "data": {
      "image/png": "[encoded data removed]",
      "text/plain": [
       "<Figure size 432x288 with 1 Axes>"
      ]
     },
     "metadata": {
      "needs_background": "light"
     },
     "output_type": "display_data"
    }
   ],
   "source": [
    "sir_bm.plotCurvesModel()"
   ]
  },
  {
   "cell_type": "code",
   "execution_count": 3,
   "id": "03c50993-d4ff-4636-ab24-70b6795837e0",
   "metadata": {},
   "outputs": [
    {
     "data": {
      "image/png": "[encoded data removed]",
      "text/plain": [
       "<Figure size 432x288 with 1 Axes>"
      ]
     },
     "metadata": {
      "needs_background": "light"
     },
     "output_type": "display_data"
    }
   ],
   "source": [
    "sir_bm.plotSpecificIteration(11)"
   ]
  },
  {
   "cell_type": "code",
   "execution_count": 11,
   "id": "66de05cb-df7e-4e99-9e08-fd052c57a93c",
   "metadata": {},
   "outputs": [
    {
     "data": {
      "text/plain": [
       "array([[0., 1., 1., 1., 1.],\n",
       "       [1., 1., 1., 1., 1.],\n",
       "       [1., 1., 1., 1., 1.],\n",
       "       [1., 1., 1., 1., 1.],\n",
       "       [1., 1., 1., 1., 1.]])"
      ]
     },
     "execution_count": 11,
     "metadata": {},
     "output_type": "execute_result"
    }
   ],
   "source": [
    "c = a\n",
    "b = np.ones((5,5))\n",
    "b[0,0] = 0\n",
    "a.system = b\n",
    "a.system"
   ]
  },
  {
   "cell_type": "code",
   "execution_count": 12,
   "id": "8067543a-81e9-4346-9705-01cd9a595e99",
   "metadata": {},
   "outputs": [
    {
     "data": {
      "text/plain": [
       "array([[0., 1., 1., 1., 1.],\n",
       "       [1., 1., 1., 1., 1.],\n",
       "       [1., 1., 1., 1., 1.],\n",
       "       [1., 1., 1., 1., 1.],\n",
       "       [1., 1., 1., 1., 1.]])"
      ]
     },
     "execution_count": 12,
     "metadata": {},
     "output_type": "execute_result"
    }
   ],
   "source": [
    "c.system"
   ]
  },
  {
   "cell_type": "code",
   "execution_count": 13,
   "id": "c5ed4ccb-a4c4-4b55-8583-6e3adbc394c7",
   "metadata": {},
   "outputs": [
    {
     "data": {
      "text/plain": [
       "True"
      ]
     },
     "execution_count": 13,
     "metadata": {},
     "output_type": "execute_result"
    }
   ],
   "source": [
    "0 == a[0]"
   ]
  },
  {
   "cell_type": "code",
   "execution_count": 1,
   "id": "1d48da0e-9070-4a16-83fd-87d765e70e94",
   "metadata": {},
   "outputs": [],
   "source": [
    "from EpidemiologicalModels.epidemiologicalModelsInCA import *"
   ]
  },
  {
   "cell_type": "code",
   "execution_count": 3,
   "id": "d6f2f8e3-4c44-4a55-bdbd-fdc496c49513",
   "metadata": {},
   "outputs": [
    {
     "name": "stdout",
     "output_type": "stream",
     "text": [
      "Debe definir un número de filas mayor a cero.\n"
     ]
    },
    {
     "ename": "AttributeError",
     "evalue": "'cellSpaceConfiguration' object has no attribute 'system'",
     "output_type": "error",
     "traceback": [
      "\u001b[1;31m---------------------------------------------------------------------------\u001b[0m",
      "\u001b[1;31mAttributeError\u001b[0m                            Traceback (most recent call last)",
      "\u001b[1;32m<ipython-input-3-8d4513e15218>\u001b[0m in \u001b[0;36m<module>\u001b[1;34m\u001b[0m\n\u001b[1;32m----> 1\u001b[1;33m \u001b[0mcellSpace\u001b[0m\u001b[1;33m(\u001b[0m\u001b[1;36m5\u001b[0m\u001b[1;33m,\u001b[0m\u001b[1;36m5\u001b[0m\u001b[1;33m)\u001b[0m\u001b[1;33m.\u001b[0m\u001b[0msystem\u001b[0m\u001b[1;33m\u001b[0m\u001b[1;33m\u001b[0m\u001b[0m\n\u001b[0m",
      "\u001b[1;31mAttributeError\u001b[0m: 'cellSpaceConfiguration' object has no attribute 'system'"
     ]
    }
   ],
   "source": [
    "cellSpace(5,5).system"
   ]
  },
  {
   "cell_type": "code",
   "execution_count": 5,
   "id": "1c06257b-a975-4a50-a224-59f792a96ddc",
   "metadata": {},
   "outputs": [
    {
     "data": {
      "text/plain": [
       "array([[ 0., -1., -1., -1., -1.],\n",
       "       [ 1., -1., -1., -1., -1.],\n",
       "       [ 1., -1., -1., -1., -1.],\n",
       "       [-1., -1., -1., -1., -1.],\n",
       "       [-1., -1., -1., -1., -1.]])"
      ]
     },
     "execution_count": 5,
     "metadata": {},
     "output_type": "execute_result"
    }
   ],
   "source": [
    "createSpace(3,1,5,5).initialLocationOfInfected(0.5)"
   ]
  },
  {
   "cell_type": "code",
   "execution_count": 6,
   "id": "237fca8d-d4f6-4841-ae07-c1d69abbe3fc",
   "metadata": {},
   "outputs": [
    {
     "data": {
      "text/plain": [
       "array([[-1., -1., -1., -1., -1.],\n",
       "       [-1., -1.,  0., -1., -1.],\n",
       "       [-1., -1.,  0., -1., -1.],\n",
       "       [-1., -1.,  0., -1., -1.],\n",
       "       [-1., -1., -1., -1., -1.]])"
      ]
     },
     "execution_count": 6,
     "metadata": {},
     "output_type": "execute_result"
    }
   ],
   "source": [
    "a = createSpace(3,1,5,5,1,2)\n",
    "a.system"
   ]
  },
  {
   "cell_type": "code",
   "execution_count": 7,
   "id": "31c26e94-d170-4c83-9224-c623c50cbc6f",
   "metadata": {},
   "outputs": [
    {
     "data": {
      "text/plain": [
       "array([[ 1.,  0., -1., -1., -1.],\n",
       "       [ 0.,  0.,  0., -1., -1.],\n",
       "       [-1., -1.,  0., -1., -1.],\n",
       "       [-1., -1.,  0., -1., -1.],\n",
       "       [-1., -1., -1., -1., -1.]])"
      ]
     },
     "execution_count": 7,
     "metadata": {},
     "output_type": "execute_result"
    }
   ],
   "source": [
    "a.rectangularBoundary(2,2,0,0)\n",
    "a.system[0,0] = 1\n",
    "a.system"
   ]
  },
  {
   "cell_type": "code",
   "execution_count": 3,
   "id": "c5b52fb2-7c6c-48de-8d28-c137ed9cd58f",
   "metadata": {},
   "outputs": [
    {
     "data": {
      "text/plain": [
       "True"
      ]
     },
     "execution_count": 3,
     "metadata": {},
     "output_type": "execute_result"
    }
   ],
   "source": [
    "type(2) == int"
   ]
  },
  {
   "cell_type": "code",
   "execution_count": 20,
   "id": "4530dc89-630a-480a-a48c-b5ce4b0d5c78",
   "metadata": {},
   "outputs": [
    {
     "data": {
      "text/plain": [
       "'abcabc'"
      ]
     },
     "execution_count": 20,
     "metadata": {},
     "output_type": "execute_result"
    }
   ],
   "source": [
    "a = \"ABCabc\"\n",
    "a.lower()"
   ]
  },
  {
   "cell_type": "code",
   "execution_count": null,
   "id": "d244669c-0e72-4e6d-87e4-dcc7cee40ecf",
   "metadata": {},
   "outputs": [],
   "source": []
  }
 ],
 "metadata": {
  "kernelspec": {
   "display_name": "Python 3",
   "language": "python",
   "name": "python3"
  },
  "language_info": {
   "codemirror_mode": {
    "name": "ipython",
    "version": 3
   },
   "file_extension": ".py",
   "mimetype": "text/x-python",
   "name": "python",
   "nbconvert_exporter": "python",
   "pygments_lexer": "ipython3",
   "version": "3.8.8"
  }
 },
 "nbformat": 4,
 "nbformat_minor": 5
}
