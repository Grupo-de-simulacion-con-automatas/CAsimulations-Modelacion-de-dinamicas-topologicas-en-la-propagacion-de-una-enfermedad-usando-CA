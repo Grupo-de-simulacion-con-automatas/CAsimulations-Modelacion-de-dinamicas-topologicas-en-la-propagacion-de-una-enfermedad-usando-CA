{
 "cells": [
  {
   "cell_type": "code",
   "execution_count": 1,
   "id": "5ecb707b-32f3-47c5-aa4b-e2c8bbb9f700",
   "metadata": {},
   "outputs": [],
   "source": [
    "from EpidemiologicalModels.epidemiologicalModelsInCA import *\n",
    "import numpy as np"
   ]
  },
  {
   "cell_type": "code",
   "execution_count": 13,
   "id": "9563b33a-0be1-48cb-a20f-327fbf4ef615",
   "metadata": {},
   "outputs": [
    {
     "data": {
      "text/plain": [
       "array([[-1., -1., -1., -1., -1.],\n",
       "       [-1.,  0.,  0.,  0.,  0.],\n",
       "       [-1.,  0.,  0.,  0.,  0.],\n",
       "       [-1.,  0.,  0.,  0.,  0.],\n",
       "       [-1., -1., -1., -1., -1.]])"
      ]
     },
     "execution_count": 13,
     "metadata": {},
     "output_type": "execute_result"
    }
   ],
   "source": [
    "type(createAgeMatrix([[0,10,0.2],[11,100,0.8]],np.zeros((10,10))))\n",
    "\n",
    "# a = createSystemFromDim(10,10)\n",
    "# a.system\n",
    "\n",
    "b = createSystemFromEmptyArray(-np.ones((5,5)))\n",
    "# b.system\n",
    "\n",
    "c = defineBoundaryConditions(b.system,3,4,1,1)\n",
    "c"
   ]
  },
  {
   "cell_type": "code",
   "execution_count": 8,
   "id": "b2179148-b6ed-471b-8937-7892359ae6b1",
   "metadata": {},
   "outputs": [
    {
     "data": {
      "text/plain": [
       "array([[1., 0., 0., 0., 0., 1., 0., 0., 1., 0.],\n",
       "       [1., 1., 0., 1., 0., 1., 1., 0., 0., 1.],\n",
       "       [1., 0., 0., 1., 0., 0., 1., 1., 0., 0.],\n",
       "       [1., 0., 0., 1., 0., 0., 1., 0., 0., 0.],\n",
       "       [0., 1., 0., 0., 1., 0., 0., 1., 0., 0.],\n",
       "       [0., 0., 1., 0., 1., 1., 1., 0., 0., 0.],\n",
       "       [0., 0., 0., 0., 0., 1., 0., 0., 1., 0.],\n",
       "       [0., 0., 0., 1., 0., 1., 0., 0., 0., 1.],\n",
       "       [1., 1., 1., 1., 0., 0., 0., 0., 1., 1.],\n",
       "       [1., 1., 1., 0., 0., 0., 0., 0., 1., 0.]])"
      ]
     },
     "execution_count": 8,
     "metadata": {},
     "output_type": "execute_result"
    }
   ],
   "source": [
    "a.initialCondition(0.5)"
   ]
  },
  {
   "cell_type": "code",
   "execution_count": null,
   "id": "66de05cb-df7e-4e99-9e08-fd052c57a93c",
   "metadata": {},
   "outputs": [],
   "source": []
  }
 ],
 "metadata": {
  "kernelspec": {
   "display_name": "Python 3",
   "language": "python",
   "name": "python3"
  },
  "language_info": {
   "codemirror_mode": {
    "name": "ipython",
    "version": 3
   },
   "file_extension": ".py",
   "mimetype": "text/x-python",
   "name": "python",
   "nbconvert_exporter": "python",
   "pygments_lexer": "ipython3",
   "version": "3.8.8"
  }
 },
 "nbformat": 4,
 "nbformat_minor": 5
}
