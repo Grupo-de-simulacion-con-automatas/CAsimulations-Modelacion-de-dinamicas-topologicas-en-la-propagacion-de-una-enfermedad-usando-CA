{
 "cells": [
  {
   "cell_type": "code",
   "execution_count": 1,
   "id": "e6003da9-c2f9-4d11-a4dc-cb691c96a176",
   "metadata": {},
   "outputs": [],
   "source": [
    "from EpidemiologicalModels import DataManager as dm\n",
    "from EpidemiologicalModels import epidemiologicalModelsInCA as em\n",
    "from EpidemiologicalModels import CellSpaceConfiguration as cc"
   ]
  },
  {
   "cell_type": "code",
   "execution_count": null,
   "id": "f25cb3a0-876f-48ac-8b18-487af873cec5",
   "metadata": {},
   "outputs": [],
   "source": []
  }
 ],
 "metadata": {
  "kernelspec": {
   "display_name": "Python 3",
   "language": "python",
   "name": "python3"
  },
  "language_info": {
   "codemirror_mode": {
    "name": "ipython",
    "version": 3
   },
   "file_extension": ".py",
   "mimetype": "text/x-python",
   "name": "python",
   "nbconvert_exporter": "python",
   "pygments_lexer": "ipython3",
   "version": "3.8.8"
  }
 },
 "nbformat": 4,
 "nbformat_minor": 5
}
