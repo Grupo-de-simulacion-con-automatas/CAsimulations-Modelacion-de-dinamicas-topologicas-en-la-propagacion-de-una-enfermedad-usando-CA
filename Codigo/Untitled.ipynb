{
 "cells": [
  {
   "cell_type": "code",
   "execution_count": 1,
   "id": "54e4c763-e105-4571-87c7-308b0c46409d",
   "metadata": {},
   "outputs": [],
   "source": [
    "from EpidemiologicalModels import epidemiologicalModelsInCA as em\n",
    "from EpidemiologicalModels import Models as mo\n",
    "from EpidemiologicalModels import SystemVisualization as sv"
   ]
  },
  {
   "cell_type": "code",
   "execution_count": 2,
   "id": "23003afd-dabd-4f7d-a33c-40e82f04f1f8",
   "metadata": {},
   "outputs": [
    {
     "data": {
      "image/png": "[encoded data removed]",
      "text/plain": [
       "<Figure size 432x288 with 1 Axes>"
      ]
     },
     "metadata": {
      "needs_background": "light"
     },
     "output_type": "display_data"
    }
   ],
   "source": [
    "cellSpace = em.CellSpace(5,5).initialLocationOfInfected(0.3)\n",
    "neighborhoodSystems = em.GenerateNeighborhoodSystem(cellSpace, \"Moore\")\n",
    "SImodel = mo.applyEpidemiologicalModel(\"sis\",0.2, 0.5, cellSpace, neighborhoodSystems, [1,0])\n",
    "SImodel.basicModel(10)\n",
    "SystemVisualization = sv.SystemVisualization(SImodel.evolutions)\n",
    "SystemVisualization.evolutionsPlot(2)"
   ]
  },
  {
   "cell_type": "code",
   "execution_count": 3,
   "id": "85810645-6f48-445c-a7b6-f0f5e9f122ff",
   "metadata": {},
   "outputs": [
    {
     "data": {
      "text/plain": [
       "[<EpidemiologicalModels.CellSpaceConfiguration.CellSpaceConfiguration at 0x286fc86a6d0>,\n",
       " <EpidemiologicalModels.CellSpaceConfiguration.CellSpaceConfiguration at 0x286fc86a820>,\n",
       " <EpidemiologicalModels.CellSpaceConfiguration.CellSpaceConfiguration at 0x286fc86a880>,\n",
       " <EpidemiologicalModels.CellSpaceConfiguration.CellSpaceConfiguration at 0x286fc86a8b0>,\n",
       " <EpidemiologicalModels.CellSpaceConfiguration.CellSpaceConfiguration at 0x286fc86a910>,\n",
       " <EpidemiologicalModels.CellSpaceConfiguration.CellSpaceConfiguration at 0x286fc86a940>,\n",
       " <EpidemiologicalModels.CellSpaceConfiguration.CellSpaceConfiguration at 0x286fc86a850>,\n",
       " <EpidemiologicalModels.CellSpaceConfiguration.CellSpaceConfiguration at 0x286fc86a9a0>,\n",
       " <EpidemiologicalModels.CellSpaceConfiguration.CellSpaceConfiguration at 0x286fc86a9d0>,\n",
       " <EpidemiologicalModels.CellSpaceConfiguration.CellSpaceConfiguration at 0x286fc86a730>,\n",
       " <EpidemiologicalModels.CellSpaceConfiguration.CellSpaceConfiguration at 0x286fc86a790>,\n",
       " <EpidemiologicalModels.CellSpaceConfiguration.CellSpaceConfiguration at 0x286fc86a7c0>]"
      ]
     },
     "execution_count": 3,
     "metadata": {},
     "output_type": "execute_result"
    }
   ],
   "source": [
    "SImodel.evolutions"
   ]
  },
  {
   "cell_type": "code",
   "execution_count": 4,
   "id": "51d47d0b-1710-46de-ab5c-013b2b0146df",
   "metadata": {},
   "outputs": [
    {
     "data": {
      "image/png": "[encoded data removed]",
      "text/plain": [
       "<Figure size 432x288 with 2 Axes>"
      ]
     },
     "metadata": {
      "needs_background": "light"
     },
     "output_type": "display_data"
    }
   ],
   "source": [
    "SystemVisualization.heatmap(0)"
   ]
  },
  {
   "cell_type": "code",
   "execution_count": 5,
   "id": "cc0f0237-4087-4358-bf49-66ef20da0d8d",
   "metadata": {},
   "outputs": [
    {
     "data": {
      "text/plain": [
       "[array([[ 0.  ,  0.72],\n",
       "        [ 1.  ,  0.24],\n",
       "        [ 2.  ,  0.12],\n",
       "        [ 3.  ,  0.04],\n",
       "        [ 4.  ,  0.  ],\n",
       "        [ 5.  ,  0.  ],\n",
       "        [ 6.  ,  0.  ],\n",
       "        [ 7.  ,  0.  ],\n",
       "        [ 8.  ,  0.  ],\n",
       "        [ 9.  ,  0.  ],\n",
       "        [10.  ,  0.  ],\n",
       "        [11.  ,  0.  ]]),\n",
       " array([[ 0.  ,  0.28],\n",
       "        [ 1.  ,  0.76],\n",
       "        [ 2.  ,  0.88],\n",
       "        [ 3.  ,  0.96],\n",
       "        [ 4.  ,  1.  ],\n",
       "        [ 5.  ,  1.  ],\n",
       "        [ 6.  ,  1.  ],\n",
       "        [ 7.  ,  1.  ],\n",
       "        [ 8.  ,  1.  ],\n",
       "        [ 9.  ,  1.  ],\n",
       "        [10.  ,  1.  ],\n",
       "        [11.  ,  1.  ]])]"
      ]
     },
     "execution_count": 5,
     "metadata": {},
     "output_type": "execute_result"
    }
   ],
   "source": [
    "SImodel.data"
   ]
  },
  {
   "cell_type": "code",
   "execution_count": null,
   "id": "53452f68-fa97-4196-b1f6-07982130c5f9",
   "metadata": {},
   "outputs": [],
   "source": []
  }
 ],
 "metadata": {
  "kernelspec": {
   "display_name": "Python 3",
   "language": "python",
   "name": "python3"
  },
  "language_info": {
   "codemirror_mode": {
    "name": "ipython",
    "version": 3
   },
   "file_extension": ".py",
   "mimetype": "text/x-python",
   "name": "python",
   "nbconvert_exporter": "python",
   "pygments_lexer": "ipython3",
   "version": "3.8.8"
  }
 },
 "nbformat": 4,
 "nbformat_minor": 5
}
