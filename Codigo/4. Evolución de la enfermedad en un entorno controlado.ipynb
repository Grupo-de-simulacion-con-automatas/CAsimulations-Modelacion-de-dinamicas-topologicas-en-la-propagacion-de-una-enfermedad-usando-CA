{
 "cells": [
  {
   "cell_type": "markdown",
   "id": "54e97b73-68d3-45e6-a32d-948fa0f892a8",
   "metadata": {},
   "source": [
    "# Evolución de la enfermedad en un entorno controlado\n",
    "\n",
    "A continuación nos situaremos en un escenario un poco más realista. Supongamos que se descubre el inicio de un brote de gripa en el hospital de un pueblo con 49 personas y deseamos analizar el comportamiento de la enfermedad para establecer medidas de control para variaciones futuras de la misma gripa.\n",
    "\n",
    "En el pueblo podemos identificar cinco lugares diferentes en donde las células interactuan entre si: La escuela, las oficinas, el mercado, el hospital y las viviendas de cada persona. Asumiremos que en la población se realizó un senso y tenemos acceso a las edades de cada individuo, su lugar de trabajo (o donde pasan la mayor parte del tiempo) y las personas con las que viven. Distribuyendose de la siguiente manera:\n",
    "\n",
    "* Escuela (E): Se sabe que en el pueblo hay 9 niños y 2 profesores.\n",
    "* Oficinas (O): Cuenta con un personal de 16 individuos.\n",
    "* Mercado (M): Se identificaron 8 trabajadores.\n",
    "* Hospital (H): Entre doctores, enfermeros y pacientes se identifica una cantidad de 14 individuos.\n",
    "\n",
    "Supondremos que todos los niños del pueblo son hijos únicos y que las viviendas con tres individuos cuentan con al menos un niño. Además de esto y de acuerdo con la información anterior supondremos que en el pueblo la población vive en uno de tres tipos de vivienda: la vivienda C1 en donde vive una sola persona y que se asume además que es un adulto; las viviendas C2 en donde viven dos individuos, ya sean dos adultos o un adulto y un niño; y por úlitmo las viviendas C3, en donde viven 3 personas.\n",
    "\n",
    "De aacuerdo con lo mencionado en el capítulo anterior, debemos establecer los grados de impacto de acuerdo con la manera en la que se distribuye nuestra población. En nuestro caso asumiremos que las personas que viven juntas tienen una grado de impacto cero entre ellas, que con los que tienen contacto en el lugar de ocupación tienen un grado de impacto igual a uno y que con las demás células tienen grado de impacto dos. De ese modo, si organizamos a la población sobre una malla identificando sus edades, ocupaciones y vecindades obtendremos algo como lo que se ve en la siguiente figura:"
   ]
  },
  {
   "cell_type": "code",
   "execution_count": 1,
   "id": "4715c3e7-d5b8-4af8-84c2-d9358efbe822",
   "metadata": {},
   "outputs": [],
   "source": [
    "import numpy as np\n",
    "import matplotlib.pyplot as plt\n",
    "from IPython.core.pylabtools import figsize\n",
    "\n",
    "from EpidemiologicalModels.epidemiologicalModelsInCA import *"
   ]
  },
  {
   "cell_type": "code",
   "execution_count": 2,
   "id": "85cd8e51-a518-4209-9889-f1ac97484e2b",
   "metadata": {},
   "outputs": [],
   "source": [
    "x00 = [[0,0],np.array([[0,1,1,1,1,1,2],[1,2,1,1,1,1,2],[1,2,1,2,1,1,1],[2,2,2,1,1,1,1],[2,2,2,2,1,1,1],[1,2,2,2,2,1,1],[1,2,2,1,1,1,1]])]\n",
    "x01 = [[0,1],np.array([[1,0,0,1,1,1,2],[1,2,1,1,1,1,1],[1,2,1,2,1,1,1],[2,1,1,1,1,1,1],[1,1,1,2,1,1,1],[1,1,1,1,1,1,1],[1,1,1,1,1,1,1]])]\n",
    "x02 = [[0,2],np.array([[1,0,0,1,1,1,2],[1,2,1,1,1,1,1],[1,2,1,2,1,1,1],[2,1,1,1,1,1,1],[1,1,1,2,1,1,1],[1,1,1,1,1,1,1],[1,1,1,1,1,1,1]])]\n",
    "x03 = [[0,3],np.array([[1,1,1,0,1,1,2],[1,2,1,0,1,1,1],[1,2,1,2,1,1,1],[2,1,1,1,1,1,1],[1,1,1,2,1,1,1],[1,1,1,1,1,1,1],[1,1,1,1,1,1,1]])]\n",
    "x04 = [[0,4],np.array([[1,1,1,1,0,0,1],[1,1,1,1,1,0,2],[1,1,1,2,1,1,1],[2,1,1,1,1,1,1],[1,1,1,2,1,1,1],[1,1,1,2,2,1,1],[1,2,1,1,1,1,1]])]\n",
    "x05 = [[0,5],np.array([[1,1,1,1,0,0,1],[1,1,1,1,1,0,2],[1,1,1,2,1,1,1],[2,1,1,1,1,1,1],[1,1,1,2,1,1,1],[1,1,1,2,2,1,1],[1,2,1,1,1,1,1]])]\n",
    "x06 = [[0,6],np.array([[2,2,2,2,1,1,0],[2,1,2,2,2,1,2],[2,1,2,2,2,1,2],[2,1,1,1,1,1,1],[1,1,1,2,1,1,1],[2,1,1,2,2,1,1],[2,2,1,1,1,1,1]])]\n",
    "\n",
    "x10 = [[1,0],np.array([[1,1,1,1,1,1,2],[0,2,1,1,1,1,1],[0,2,1,2,1,1,1],[2,1,1,1,1,1,1],[1,1,1,2,1,1,1],[1,1,1,1,1,1,1],[1,1,1,1,1,1,1]])]\n",
    "x11 = [[1,1],np.array([[2,2,2,2,1,1,1],[2,0,2,2,2,1,2],[2,0,2,1,2,1,2],[1,1,1,1,1,1,1],[1,1,1,1,1,1,1],[1,1,1,2,2,1,1],[1,2,1,1,1,1,1]])]\n",
    "x12 = [[1,2],np.array([[1,1,1,1,1,1,2],[1,2,0,1,1,1,2],[1,2,1,2,1,1,1],[2,2,2,1,1,1,1],[2,2,2,2,1,1,1],[1,2,2,2,2,1,1],[1,2,2,1,1,1,1]])]\n",
    "x13 = [[1,3],np.array([[1,1,1,0,1,1,2],[1,2,1,0,1,1,1],[1,2,1,2,1,1,1],[2,1,1,1,1,1,1],[1,1,1,2,1,1,1],[1,1,1,1,1,1,1],[1,1,1,1,1,1,1]])]\n",
    "x14 = [[1,4],np.array([[1,1,1,1,1,1,2],[1,2,1,1,0,1,1],[1,2,1,2,0,1,1],[2,1,1,1,1,1,1],[1,1,1,2,1,1,1],[1,1,1,1,1,1,1],[1,1,1,1,1,1,1]])]\n",
    "x15 = [[1,5],np.array([[1,1,1,1,0,0,1],[1,1,1,1,1,0,2],[1,1,1,2,1,1,1],[2,1,1,1,1,1,1],[1,1,1,2,1,1,1],[1,1,1,2,2,1,1],[1,2,1,1,1,1,1]])]\n",
    "x16 = [[1,6],np.array([[2,1,1,1,2,2,2],[1,2,2,1,1,2,0],[1,2,2,2,1,2,2],[2,1,1,1,1,1,2],[1,1,1,2,1,1,2],[2,1,1,1,1,1,2],[2,1,1,1,1,1,2]])]\n",
    "\n",
    "x20 = [[2,0],np.array([[1,1,1,1,1,1,2],[0,2,1,1,1,1,1],[0,2,1,2,1,1,1],[2,1,1,1,1,1,1],[1,1,1,2,1,1,1],[1,1,1,1,1,1,1],[1,1,1,1,1,1,1]])]\n",
    "x21 = [[2,1],np.array([[2,2,2,2,1,1,1],[2,0,2,2,2,1,2],[2,0,2,1,2,1,2],[1,1,1,1,1,1,1],[1,1,1,1,1,1,1],[1,1,1,2,2,1,1],[1,2,1,1,1,1,1]])]\n",
    "x22 = [[2,2],np.array([[1,1,1,1,1,1,2],[1,2,1,1,1,1,2],[1,2,0,2,1,1,1],[2,2,2,1,1,1,1],[2,2,2,2,1,1,1],[1,2,2,2,2,1,1],[1,2,2,1,1,1,1]])]\n",
    "x23 = [[2,3],np.array([[2,2,2,2,2,2,2],[2,1,2,2,2,2,2],[2,1,2,0,2,2,2],[1,1,1,2,2,2,2],[2,2,1,1,2,2,1],[1,1,1,2,2,2,1],[1,2,1,2,2,2,1]])]\n",
    "x24 = [[2,4],np.array([[1,1,1,1,1,1,2],[1,2,1,1,0,1,1],[1,2,1,2,0,1,1],[2,1,1,1,1,1,1],[1,1,1,2,1,1,1],[1,1,1,1,1,1,1],[1,1,1,1,1,1,1]])]\n",
    "x25 = [[2,5],np.array([[1,1,1,1,1,1,1],[1,1,1,1,1,1,2],[1,1,1,2,1,0,1],[2,1,1,1,1,1,0],[1,1,1,2,1,1,1],[1,1,1,2,2,1,1],[1,2,1,1,1,1,1]])]\n",
    "x26 = [[2,6],np.array([[1,1,1,1,1,1,2],[1,2,1,1,1,1,2],[1,2,1,2,1,1,0],[2,2,2,1,1,1,1],[2,2,2,2,1,1,1],[1,2,2,2,2,1,1],[1,2,2,1,1,1,1]])]\n",
    "\n",
    "x30 = [[3,0],np.array([[2,2,2,2,2,2,2],[2,1,2,2,2,2,2],[2,1,2,1,2,2,2],[0,1,1,2,2,2,2],[2,2,1,1,2,2,1],[1,1,1,2,2,2,1],[1,2,1,2,2,2,1]])]\n",
    "x31 = [[3,1],np.array([[2,1,1,1,1,1,1],[1,1,2,1,1,1,1],[1,1,2,1,1,1,2],[1,0,0,1,1,1,1],[1,1,0,1,1,1,1],[1,1,1,1,1,1,1],[1,1,1,1,1,1,1]])]\n",
    "x32 = [[3,2],np.array([[2,1,1,1,1,1,1],[1,1,2,1,1,1,1],[1,1,2,1,1,1,2],[1,0,0,1,1,1,1],[1,1,0,1,1,1,1],[1,1,1,1,1,1,1],[1,1,1,1,1,1,1]])]\n",
    "x33 = [[3,3],np.array([[1,1,1,1,1,1,1],[1,1,1,1,1,1,1],[1,1,1,2,1,1,1],[2,1,1,0,0,0,1],[1,1,1,2,1,1,1],[1,1,1,1,1,1,1],[1,1,1,1,1,1,1]])]\n",
    "x34 = [[3,4],np.array([[1,1,1,1,1,1,1],[1,1,1,1,1,1,1],[1,1,1,2,1,1,1],[2,1,1,0,0,0,1],[1,1,1,2,1,1,1],[1,1,1,1,1,1,1],[1,1,1,1,1,1,1]])]\n",
    "x35 = [[3,5],np.array([[1,1,1,1,1,1,1],[1,1,1,1,1,1,1],[1,1,1,2,1,1,1],[2,1,1,0,0,0,1],[1,1,1,2,1,1,1],[1,1,1,1,1,1,1],[1,1,1,1,1,1,1]])]\n",
    "x36 = [[3,6],np.array([[1,1,1,1,1,1,1],[1,1,1,1,1,1,2],[1,1,1,2,1,0,1],[2,1,1,1,1,1,0],[1,1,1,2,1,1,1],[1,1,1,2,2,1,1],[1,2,1,1,1,1,1]])]\n",
    "\n",
    "x40 = [[4,0],np.array([[2,1,1,1,1,1,1],[1,1,2,1,1,1,1],[1,1,2,2,1,1,2],[2,1,1,1,1,1,1],[0,0,1,2,1,1,1],[2,1,1,1,1,1,1],[2,1,1,1,1,1,1]])]\n",
    "x41 = [[4,1],np.array([[2,1,1,1,1,1,1],[1,1,2,1,1,1,1],[1,1,2,2,1,1,2],[2,1,1,1,1,1,1],[0,0,1,2,1,1,1],[2,1,1,1,1,1,1],[2,1,1,1,1,1,1]])]\n",
    "x42 = [[4,2],np.array([[2,1,1,1,1,1,1],[1,1,2,1,1,1,1],[1,1,2,1,1,1,2],[1,0,0,1,1,1,1],[1,1,0,1,1,1,1],[1,1,1,1,1,1,1],[1,1,1,1,1,1,1]])]\n",
    "x43 = [[4,3],np.array([[2,2,2,2,2,2,2],[2,1,2,2,2,2,2],[2,1,2,1,2,2,2],[1,1,1,2,2,2,2],[2,2,1,0,2,2,1],[1,1,1,2,2,2,1],[1,2,1,2,2,2,1]])]\n",
    "x44 = [[4,4],np.array([[1,1,1,1,1,1,1],[1,1,1,1,1,1,1],[1,1,1,2,1,1,1],[2,1,1,1,1,1,1],[1,1,1,2,0,0,1],[1,1,1,1,1,0,1],[1,1,1,1,1,1,1]])]\n",
    "x45 = [[4,5],np.array([[1,1,1,1,1,1,1],[1,1,1,1,1,1,1],[1,1,1,2,1,1,1],[2,1,1,1,1,1,1],[1,1,1,2,0,0,1],[1,1,1,1,1,0,1],[1,1,1,1,1,1,1]])]\n",
    "x46 = [[4,6],np.array([[1,1,1,1,1,1,1],[1,1,1,1,1,1,2],[1,1,1,1,1,1,1],[1,1,1,1,1,1,1],[1,1,1,1,1,1,0],[1,1,1,2,2,1,0],[1,2,1,1,1,1,0]])]\n",
    "\n",
    "x50 = [[5,0],np.array([[1,1,1,1,1,1,2],[1,1,1,1,1,1,2],[1,1,1,1,1,1,1],[1,1,1,1,1,1,1],[2,2,1,1,1,1,1],[0,1,1,2,2,1,1],[0,2,1,1,1,1,1]])]\n",
    "x51 = [[5,1],np.array([[2,1,1,1,1,1,1],[1,1,2,1,1,1,1],[1,1,2,1,1,1,2],[1,1,1,1,1,1,1],[1,1,1,1,1,1,1],[1,0,0,1,1,1,1],[1,1,0,1,1,1,1]])]\n",
    "x52 = [[5,2],np.array([[2,1,1,1,1,1,1],[1,1,2,1,1,1,1],[1,1,2,1,1,1,2],[1,1,1,1,1,1,1],[1,1,1,1,1,1,1],[1,0,0,1,1,1,1],[1,1,0,1,1,1,1]])]\n",
    "x53 = [[5,3],np.array([[2,1,1,1,2,2,2],[1,2,2,1,1,2,1],[1,2,2,2,1,2,2],[2,1,1,1,1,1,2],[1,1,1,2,1,1,2],[2,1,1,0,0,1,2],[2,1,1,1,1,1,2]])]\n",
    "x54 = [[5,4],np.array([[2,1,1,1,2,2,2],[1,2,2,1,1,2,1],[1,2,2,2,1,2,2],[2,1,1,1,1,1,2],[1,1,1,2,1,1,2],[2,1,1,0,0,1,2],[2,1,1,1,1,1,2]])]\n",
    "x55 = [[5,5],np.array([[1,1,1,1,1,1,1],[1,1,1,1,1,1,1],[1,1,1,2,1,1,1],[2,1,1,1,1,1,1],[1,1,1,2,0,0,1],[1,1,1,1,1,0,1],[1,1,1,1,1,1,1]])]\n",
    "x56 = [[5,6],np.array([[1,1,1,1,1,1,1],[1,1,1,1,1,1,2],[1,1,1,1,1,1,1],[1,1,1,1,1,1,1],[1,1,1,1,1,1,0],[1,1,1,2,2,1,0],[1,2,1,1,1,1,0]])]\n",
    "\n",
    "x60 = [[6,0],np.array([[1,1,1,1,1,1,2],[1,1,1,1,1,1,2],[1,1,1,1,1,1,1],[1,1,1,1,1,1,1],[2,2,1,1,1,1,1],[0,1,1,2,2,1,1],[0,2,1,1,1,1,1]])]\n",
    "x61 = [[6,1],np.array([[2,1,1,1,2,2,2],[1,2,2,1,1,2,1],[1,2,2,2,1,2,2],[2,1,1,1,1,1,2],[1,1,1,2,1,1,2],[2,1,1,1,1,1,2],[2,0,1,1,1,1,2]])]\n",
    "x62 = [[6,2],np.array([[2,1,1,1,1,1,1],[1,1,2,1,1,1,1],[1,1,2,1,1,1,2],[1,1,1,1,1,1,1],[1,1,1,1,1,1,1],[1,0,0,1,1,1,1],[1,1,0,1,1,1,1]])]\n",
    "x63 = [[6,3],np.array([[1,1,1,1,1,1,1],[1,1,1,1,1,1,1],[1,1,1,2,1,1,1],[2,1,1,1,1,1,1],[1,1,1,2,1,1,1],[1,1,1,1,1,1,1],[1,1,1,0,0,0,1]])]\n",
    "x64 = [[6,4],np.array([[1,1,1,1,1,1,1],[1,1,1,1,1,1,1],[1,1,1,2,1,1,1],[2,1,1,1,1,1,1],[1,1,1,2,1,1,1],[1,1,1,1,1,1,1],[1,1,1,0,0,0,1]])]\n",
    "x65 = [[6,5],np.array([[1,1,1,1,1,1,1],[1,1,1,1,1,1,1],[1,1,1,2,1,1,1],[2,1,1,1,1,1,1],[1,1,1,2,1,1,1],[1,1,1,1,1,1,1],[1,1,1,0,0,0,1]])]\n",
    "x66 = [[6,6],np.array([[1,1,1,1,1,1,1],[1,1,1,1,1,1,2],[1,1,1,1,1,1,1],[1,1,1,1,1,1,1],[1,1,1,1,1,1,0],[1,1,1,2,2,1,0],[1,2,1,1,1,1,0]])]\n",
    "\n",
    "# Sistema de vecindades considerado\n",
    "v = [x00,x01,x02,x03,x04,x05,x06,x10,x11,x12,x13,x14,x15,x16,x20,x21,x22,x23,x24,x25,x26,x30,x31,x32,x33,x34,x35,x36,x40,x41,x42,x43,x44,x45,x46,x50,x51,x52,x53,x54,x55,x56,x60,x61,x62,x63,x64,x65,x66]\n",
    "\n",
    "ages = np.array([[28,90,40,38,48,50,30],\n",
    "                 [31, 7,26,36,41,12,35],\n",
    "                 [75,41,35,29,37,38,29],\n",
    "                 [61,80,32,39, 4,39,41],\n",
    "                 [ 2,36, 9,33, 2,32,37],\n",
    "                 [60,48,53,51,56,35,40],\n",
    "                 [55,59,11, 8,50,47, 7]])\n",
    "\n",
    "# Se definen las condiciones iniciales de acuerdo con los lugares de trabajo establecidos inicialmente\n",
    "# Hospital (H)\n",
    "statesH = np.array([[0,0,0,1,0,0,0], [0,0,0,0,0,0,0], [0,0,0,0,1,0,0], [0,0,0,0,0,0,0], \n",
    "                    [0,1,0,0,0,0,0], [0,0,0,1,0,0,0], [0,1,0,0,0,0,0]])\n",
    "\n",
    "# Oficinas (O)\n",
    "statesO = np.array([[0,0,0,0,1,0,0], [1,0,0,0,0,0,0], [0,0,1,0,0,0,0], [0,0,0,0,0,0,0], \n",
    "                    [0,0,0,0,0,0,1], [0,0,0,0,0,0,0], [0,0,0,0,1,0,0]])\n",
    "\n",
    "# Escuela (E)\n",
    "statesE = np.array([[0,0,0,0,0,0,0], [0,1,0,0,0,0,0], [0,0,0,0,0,1,0], [0,0,0,0,1,0,0], \n",
    "                    [0,0,0,0,0,0,0], [0,0,0,0,0,0,0], [0,0,1,0,0,0,1]])\n",
    "\n",
    "# Mercado (M)\n",
    "statesM = np.array([[0,0,0,0,0,0,0], [0,0,0,0,0,0,0], [0,1,0,0,0,0,0], [0,0,1,0,0,0,0], \n",
    "                    [0,0,0,0,0,0,0], [1,0,1,0,0,0,1], [0,0,0,0,0,0,0]])"
   ]
  },
  {
   "cell_type": "code",
   "execution_count": 3,
   "id": "de860150-3565-4cbe-8eea-c44e2bab06a2",
   "metadata": {},
   "outputs": [],
   "source": [
    "mortability_rates = [[1,100,0.005]]\n",
    "ranges_dead_by_disease = [[1,15,0.005],[16,48,0.01],[49,55,0.1],[56,100,0.2]]\n",
    "birth_rate = 2\n",
    "alpha = 0.2; beta = 0.5\n",
    "\n",
    "spaceH = CellSpace(7,7)\n",
    "spaceH.system = statesH\n",
    "SIRmodelH = medium_SIR_DD(alpha, beta, birth_rate, mortability_rates, ranges_dead_by_disease, \n",
    "                          6, 0, 30, 100, spaceH, v, [1,0.005,0.25], ages)\n",
    "\n",
    "spaceO = CellSpace(7,7)\n",
    "spaceO.system = statesO\n",
    "SIRmodelO = medium_SIR_DD(alpha, beta, birth_rate, mortability_rates, ranges_dead_by_disease, \n",
    "                          6, 0, 30, 100, spaceO, v, [1,0.005,0.25], ages)\n",
    "\n",
    "spaceE = CellSpace(7,7)\n",
    "spaceE.system = statesE\n",
    "SIRmodelE = medium_SIR_DD(alpha, beta, birth_rate, mortability_rates, ranges_dead_by_disease, \n",
    "                          6, 0, 30, 100, spaceE, v, [1,0.005,0.25], ages)\n",
    "\n",
    "spaceM = CellSpace(7,7)\n",
    "spaceM.system = statesM\n",
    "SIRmodelM = medium_SIR_DD(alpha, beta, birth_rate, mortability_rates, ranges_dead_by_disease, \n",
    "                          6, 0, 30, 100, spaceM, v, [1,0.005,0.25], ages)"
   ]
  },
  {
   "cell_type": "code",
   "execution_count": 4,
   "id": "48de0f47-4364-4ad3-a3ef-a8423d8baef4",
   "metadata": {},
   "outputs": [
    {
     "data": {
      "image/png": "[encoded data removed]",
      "text/plain": [
       "<Figure size 432x288 with 1 Axes>"
      ]
     },
     "metadata": {
      "needs_background": "light"
     },
     "output_type": "display_data"
    }
   ],
   "source": [
    "SIRmodel = medium_SIR_DD(alpha, beta, birth_rate, mortability_rates, ranges_dead_by_disease, 365, 0.2, 30, 100, spaceH, v, [1,0.0005,0.00025], ages)\n",
    "\n",
    "SIRmodel.plotCurvesModel(f\"Modelo SIR con muerte por enfermedad sobre el sistema\", True)\n",
    "#SIRmodel.metricsPlot(30, f\"Modelo {model[:3]} con natalidad y mortalidad sobre el sistema\") "
   ]
  },
  {
   "cell_type": "code",
   "execution_count": 5,
   "id": "9568ae03-ae50-47fb-b722-b0690718b715",
   "metadata": {},
   "outputs": [
    {
     "data": {
      "image/png": "[encoded data removed]",
      "text/plain": [
       "<Figure size 432x288 with 1 Axes>"
      ]
     },
     "metadata": {
      "needs_background": "light"
     },
     "output_type": "display_data"
    }
   ],
   "source": [
    "SIRmodel.plotCurvesModel(f\"Modelo SIR con muerte por enfermedad sobre el sistema\")"
   ]
  },
  {
   "cell_type": "code",
   "execution_count": 6,
   "id": "6d7d7ff8-86cf-459f-88bf-52b5694bd862",
   "metadata": {},
   "outputs": [],
   "source": [
    "from EpidemiologicalModels.PlotsManager import *"
   ]
  },
  {
   "cell_type": "code",
   "execution_count": 7,
   "id": "03ec0515-24d3-4795-b390-2c6d56087849",
   "metadata": {},
   "outputs": [
    {
     "data": {
      "image/png": "[encoded data removed]",
      "text/plain": [
       "<Figure size 720x432 with 1 Axes>"
      ]
     },
     "metadata": {
      "needs_background": "light"
     },
     "output_type": "display_data"
    }
   ],
   "source": [
    "figsize(10,6)\n",
    "# data[1] corresponde al número de infectados por iteración\n",
    "plotSolutions([SIRmodelH.data[1],\n",
    "               SIRmodelO.data[1],\n",
    "               SIRmodelE.data[1],\n",
    "               SIRmodelM.data[1]],\n",
    "              [\"Hospital\",\"Oficina\",\"Escuela\",\"Mercado\"], \n",
    "              [\"tomato\", \"royalblue\", \"orange\", \"olivedrab\"], \n",
    "              \"Población infectada para diferentes condiciones iniciales\")"
   ]
  },
  {
   "cell_type": "code",
   "execution_count": 7,
   "id": "fdda8767-1fba-41bd-9298-f165d63a6f06",
   "metadata": {},
   "outputs": [],
   "source": [
    "from EpidemiologicalModels.SystemVisualization import *"
   ]
  },
  {
   "cell_type": "code",
   "execution_count": 9,
   "id": "ca739247-9656-4128-b012-d19f82ed2e43",
   "metadata": {},
   "outputs": [
    {
     "data": {
      "image/png": "[encoded data removed]",
      "text/plain": [
       "<Figure size 720x432 with 1 Axes>"
      ]
     },
     "metadata": {
      "needs_background": "light"
     },
     "output_type": "display_data"
    }
   ],
   "source": [
    "cs = CellSpace(5,5)\n",
    "cs.system = statesH\n",
    "SystemVisualization([cs]).evolutionsPlot(0)"
   ]
  },
  {
   "cell_type": "code",
   "execution_count": 10,
   "id": "ef4ec503-1773-4707-bdcf-3204030f115a",
   "metadata": {},
   "outputs": [
    {
     "data": {
      "image/png": "[encoded data removed]",
      "text/plain": [
       "<Figure size 720x432 with 1 Axes>"
      ]
     },
     "metadata": {
      "needs_background": "light"
     },
     "output_type": "display_data"
    }
   ],
   "source": [
    "cs = CellSpace(5,5)\n",
    "cs.system = statesO\n",
    "SystemVisualization([cs]).evolutionsPlot(0)"
   ]
  },
  {
   "cell_type": "code",
   "execution_count": 11,
   "id": "65996d00-9ac4-4886-972b-9cf242d99d8e",
   "metadata": {},
   "outputs": [
    {
     "data": {
      "image/png": "[encoded data removed]",
      "text/plain": [
       "<Figure size 720x432 with 1 Axes>"
      ]
     },
     "metadata": {
      "needs_background": "light"
     },
     "output_type": "display_data"
    }
   ],
   "source": [
    "cs = CellSpace(5,5)\n",
    "cs.system = statesE\n",
    "SystemVisualization([cs]).evolutionsPlot(0)"
   ]
  },
  {
   "cell_type": "code",
   "execution_count": 12,
   "id": "63e088c1-69a9-47ad-96d9-951219b5692a",
   "metadata": {},
   "outputs": [
    {
     "data": {
      "image/png": "[encoded data removed]",
      "text/plain": [
       "<Figure size 720x432 with 1 Axes>"
      ]
     },
     "metadata": {
      "needs_background": "light"
     },
     "output_type": "display_data"
    }
   ],
   "source": [
    "cs = CellSpace(5,5)\n",
    "cs.system = statesM\n",
    "SystemVisualization([cs]).evolutionsPlot(0)"
   ]
  },
  {
   "cell_type": "code",
   "execution_count": 8,
   "id": "4e360974-e11b-4154-b3d5-f73bd2f2f446",
   "metadata": {},
   "outputs": [],
   "source": [
    "from EpidemiologicalModels.NeighborhoodManager import *"
   ]
  },
  {
   "cell_type": "code",
   "execution_count": 9,
   "id": "24727adf-a525-497e-ac9a-b1fb9aab70cc",
   "metadata": {},
   "outputs": [],
   "source": [
    "mr = [[1,100,0.005]]\n",
    "ranges_dead = [[1,15,0.005],[16,48,0.01],[49,55,0.1],[56,100,0.2]]\n",
    "br = 0.2\n",
    "\n",
    "alpha = 0.2; beta = 0.5\n",
    "\n",
    "model = \"sir_deathByDisease\"  # sis_deathByDisease, sir_deathByDisease\n",
    "SIRmodel1 = medium_SIR_DD(alpha, beta, br, mr, ranges_dead, 6, 0, 30, 100, spaceH, Moore(spaceH), [1,0.005,0.0025], ages)\n",
    "\n",
    "# SIRmodel.plotMediumCurves(0.1, 100, 10, f\"Modelo {model[:3]} con muerte por enfermedad sobre el sistema\")\n",
    "# SIRmodel1.plotMediumCurves(0,30,100,f\"Modelo {model[:3]} con natalidad y mortalidad sobre el sistema\") # metricsPlot(30, ) \n"
   ]
  },
  {
   "cell_type": "code",
   "execution_count": 35,
   "id": "5f044b69-1fbb-48a6-8bbb-96c471e0bbc4",
   "metadata": {
    "collapsed": true,
    "jupyter": {
     "outputs_hidden": true
    },
    "tags": []
   },
   "outputs": [
    {
     "data": {
      "text/plain": [
       "[array([[0.00000000e+00, 7.97959184e-01],\n",
       "        [1.00000000e+00, 4.18367347e-01],\n",
       "        [2.00000000e+00, 1.36734694e-01],\n",
       "        [3.00000000e+00, 4.89795918e-02],\n",
       "        [4.00000000e+00, 1.83673469e-02],\n",
       "        [5.00000000e+00, 4.08163265e-03],\n",
       "        [6.00000000e+00, 0.00000000e+00],\n",
       "        [7.00000000e+00, 0.00000000e+00],\n",
       "        [8.00000000e+00, 0.00000000e+00],\n",
       "        [9.00000000e+00, 0.00000000e+00],\n",
       "        [1.00000000e+01, 0.00000000e+00],\n",
       "        [1.10000000e+01, 0.00000000e+00],\n",
       "        [1.20000000e+01, 4.08163265e-03],\n",
       "        [1.30000000e+01, 4.08163265e-03],\n",
       "        [1.40000000e+01, 4.08163265e-03],\n",
       "        [1.50000000e+01, 4.08163265e-03],\n",
       "        [1.60000000e+01, 4.08163265e-03],\n",
       "        [1.70000000e+01, 4.08163265e-03],\n",
       "        [1.80000000e+01, 4.08163265e-03],\n",
       "        [1.90000000e+01, 4.08163265e-03],\n",
       "        [2.00000000e+01, 4.08163265e-03],\n",
       "        [2.10000000e+01, 4.08163265e-03],\n",
       "        [2.20000000e+01, 4.08163265e-03],\n",
       "        [2.30000000e+01, 4.08163265e-03],\n",
       "        [2.40000000e+01, 4.08163265e-03],\n",
       "        [2.50000000e+01, 4.08163265e-03],\n",
       "        [2.60000000e+01, 4.08163265e-03],\n",
       "        [2.70000000e+01, 4.08163265e-03],\n",
       "        [2.80000000e+01, 4.08163265e-03],\n",
       "        [2.90000000e+01, 4.08163265e-03]]),\n",
       " array([[0.00000000e+00, 2.02040816e-01],\n",
       "        [1.00000000e+00, 5.44897959e-01],\n",
       "        [2.00000000e+00, 7.12244898e-01],\n",
       "        [3.00000000e+00, 6.65306122e-01],\n",
       "        [4.00000000e+00, 5.63265306e-01],\n",
       "        [5.00000000e+00, 4.71428571e-01],\n",
       "        [6.00000000e+00, 3.81632653e-01],\n",
       "        [7.00000000e+00, 3.02040816e-01],\n",
       "        [8.00000000e+00, 2.34693878e-01],\n",
       "        [9.00000000e+00, 1.83673469e-01],\n",
       "        [1.00000000e+01, 1.51020408e-01],\n",
       "        [1.10000000e+01, 1.12244898e-01],\n",
       "        [1.20000000e+01, 8.36734694e-02],\n",
       "        [1.30000000e+01, 6.32653061e-02],\n",
       "        [1.40000000e+01, 4.28571429e-02],\n",
       "        [1.50000000e+01, 2.24489796e-02],\n",
       "        [1.60000000e+01, 2.04081633e-03],\n",
       "        [1.70000000e+01, 0.00000000e+00],\n",
       "        [1.80000000e+01, 0.00000000e+00],\n",
       "        [1.90000000e+01, 0.00000000e+00],\n",
       "        [2.00000000e+01, 0.00000000e+00],\n",
       "        [2.10000000e+01, 0.00000000e+00],\n",
       "        [2.20000000e+01, 0.00000000e+00],\n",
       "        [2.30000000e+01, 0.00000000e+00],\n",
       "        [2.40000000e+01, 0.00000000e+00],\n",
       "        [2.50000000e+01, 0.00000000e+00],\n",
       "        [2.60000000e+01, 0.00000000e+00],\n",
       "        [2.70000000e+01, 0.00000000e+00],\n",
       "        [2.80000000e+01, 0.00000000e+00],\n",
       "        [2.90000000e+01, 0.00000000e+00]]),\n",
       " array([[ 0.        ,  0.        ],\n",
       "        [ 1.        ,  0.03673469],\n",
       "        [ 2.        ,  0.14693878],\n",
       "        [ 3.        ,  0.28163265],\n",
       "        [ 4.        ,  0.41428571],\n",
       "        [ 5.        ,  0.52040816],\n",
       "        [ 6.        ,  0.61428571],\n",
       "        [ 7.        ,  0.69387755],\n",
       "        [ 8.        ,  0.76122449],\n",
       "        [ 9.        ,  0.8122449 ],\n",
       "        [10.        ,  0.84489796],\n",
       "        [11.        ,  0.88367347],\n",
       "        [12.        ,  0.9122449 ],\n",
       "        [13.        ,  0.93265306],\n",
       "        [14.        ,  0.95306122],\n",
       "        [15.        ,  0.97346939],\n",
       "        [16.        ,  0.99387755],\n",
       "        [17.        ,  0.99591837],\n",
       "        [18.        ,  0.99591837],\n",
       "        [19.        ,  0.99591837],\n",
       "        [20.        ,  0.99591837],\n",
       "        [21.        ,  0.99591837],\n",
       "        [22.        ,  0.99591837],\n",
       "        [23.        ,  0.99591837],\n",
       "        [24.        ,  0.99591837],\n",
       "        [25.        ,  0.99591837],\n",
       "        [26.        ,  0.99591837],\n",
       "        [27.        ,  0.99591837],\n",
       "        [28.        ,  0.99591837],\n",
       "        [29.        ,  0.99591837]]),\n",
       " array([[0.00000000e+00, 0.00000000e+00],\n",
       "        [1.00000000e+00, 0.00000000e+00],\n",
       "        [2.00000000e+00, 4.08163265e-03],\n",
       "        [3.00000000e+00, 4.08163265e-03],\n",
       "        [4.00000000e+00, 4.08163265e-03],\n",
       "        [5.00000000e+00, 4.08163265e-03],\n",
       "        [6.00000000e+00, 4.08163265e-03],\n",
       "        [7.00000000e+00, 4.08163265e-03],\n",
       "        [8.00000000e+00, 4.08163265e-03],\n",
       "        [9.00000000e+00, 4.08163265e-03],\n",
       "        [1.00000000e+01, 4.08163265e-03],\n",
       "        [1.10000000e+01, 4.08163265e-03],\n",
       "        [1.20000000e+01, 0.00000000e+00],\n",
       "        [1.30000000e+01, 0.00000000e+00],\n",
       "        [1.40000000e+01, 0.00000000e+00],\n",
       "        [1.50000000e+01, 0.00000000e+00],\n",
       "        [1.60000000e+01, 0.00000000e+00],\n",
       "        [1.70000000e+01, 0.00000000e+00],\n",
       "        [1.80000000e+01, 0.00000000e+00],\n",
       "        [1.90000000e+01, 0.00000000e+00],\n",
       "        [2.00000000e+01, 0.00000000e+00],\n",
       "        [2.10000000e+01, 0.00000000e+00],\n",
       "        [2.20000000e+01, 0.00000000e+00],\n",
       "        [2.30000000e+01, 0.00000000e+00],\n",
       "        [2.40000000e+01, 0.00000000e+00],\n",
       "        [2.50000000e+01, 0.00000000e+00],\n",
       "        [2.60000000e+01, 0.00000000e+00],\n",
       "        [2.70000000e+01, 0.00000000e+00],\n",
       "        [2.80000000e+01, 0.00000000e+00],\n",
       "        [2.90000000e+01, 0.00000000e+00]])]"
      ]
     },
     "execution_count": 35,
     "metadata": {},
     "output_type": "execute_result"
    }
   ],
   "source": [
    "SIRmodel1.data"
   ]
  },
  {
   "cell_type": "code",
   "execution_count": 10,
   "id": "93794f39-8c36-47c9-ab0f-9d93463858bb",
   "metadata": {
    "tags": []
   },
   "outputs": [],
   "source": [
    "mr = [[1,100,0.005]]\n",
    "ranges_dead = [[1,15,0.005],[16,48,0.01],[49,55,0.1],[56,100,0.2]]\n",
    "br = 2\n",
    "\n",
    "alpha = 0.2; beta = 0.5\n",
    "\n",
    "model = \"sir_deathByDisease\"  # sis_deathByDisease, sir_deathByDisease\n",
    "SIRmodel2 = medium_SIR_DD(alpha, beta, br, mr, ranges_dead, 6, 0, 30, 100, spaceH, Von_Neumann(spaceH), [1,0.005,0.0025], ages)\n",
    "\n",
    "#SIRmodel2.plotMediumCurves(0.1, 30, 100, f\"Modelo {model[:3]} con muerte por enfermedad sobre el sistema\")\n",
    "# SIRmodel2.metricsPlot(30, f\"Modelo {model[:3]} con natalidad y mortalidad sobre el sistema\") "
   ]
  },
  {
   "cell_type": "code",
   "execution_count": 11,
   "id": "d0e4bc87-545f-459d-81cb-655c22fddfeb",
   "metadata": {},
   "outputs": [],
   "source": [
    "from EpidemiologicalModels.PlotsManager import *\n"
   ]
  },
  {
   "cell_type": "code",
   "execution_count": 53,
   "id": "86fa3ac5-203b-4fa0-a60c-59f55f22e946",
   "metadata": {},
   "outputs": [],
   "source": [
    "figsize(8,4)"
   ]
  },
  {
   "cell_type": "code",
   "execution_count": 12,
   "id": "a1def116-dd46-4322-a18d-845cf7a454b3",
   "metadata": {},
   "outputs": [
    {
     "data": {
      "image/png": "[encoded data removed]",
      "text/plain": [
       "<Figure size 432x288 with 1 Axes>"
      ]
     },
     "metadata": {
      "needs_background": "light"
     },
     "output_type": "display_data"
    }
   ],
   "source": [
    "plotSolutions([SIRmodelH.data[0],SIRmodel1.data[0],SIRmodel2.data[0]],[\"Vecindades en el pueblo\",\"Vecindades de Moore\",\"Vecindades de Von Naumann\"],[\"r\",\"b\",\"g\"],\"Comparación entre sistemas de vecindades.\")"
   ]
  },
  {
   "cell_type": "code",
   "execution_count": 13,
   "id": "4bf63f94-0646-4cc5-9541-a3c605a92b15",
   "metadata": {},
   "outputs": [
    {
     "data": {
      "image/png": "[encoded data removed]",
      "text/plain": [
       "<Figure size 432x288 with 1 Axes>"
      ]
     },
     "metadata": {
      "needs_background": "light"
     },
     "output_type": "display_data"
    }
   ],
   "source": [
    "plotSolutions([SIRmodelH.data[1],SIRmodel1.data[1],SIRmodel2.data[1]],[\"Vecindades en el pueblo\",\"Vecindades de Moore\",\"Vecindades de Von Naumann\"],[\"r\",\"b\",\"g\"],\"Comparación entre sistemas de vecindades.\")"
   ]
  },
  {
   "cell_type": "code",
   "execution_count": 14,
   "id": "10483510-aaa2-465f-883b-cd9e878f7066",
   "metadata": {},
   "outputs": [
    {
     "data": {
      "image/png": "[encoded data removed]",
      "text/plain": [
       "<Figure size 432x288 with 1 Axes>"
      ]
     },
     "metadata": {
      "needs_background": "light"
     },
     "output_type": "display_data"
    }
   ],
   "source": [
    "plotSolutions([SIRmodelH.data[2],SIRmodel1.data[2],SIRmodel2.data[2]],[\"Vecindades en el pueblo\",\"Vecindades de Moore\",\"Vecindades de Von Naumann\"],[\"r\",\"b\",\"g\"],\"Comparación entre sistemas de vecindades.\")"
   ]
  },
  {
   "cell_type": "code",
   "execution_count": null,
   "id": "d98f9993-2c59-49ee-ab65-b0b7b1e52ff9",
   "metadata": {},
   "outputs": [],
   "source": [
    "mr = [[1,100,0.005]]\n",
    "ranges_dead = [[1,15,0.005],[16,48,0.01],[49,55,0.1],[56,100,0.2]]\n",
    "br = 2\n",
    "\n",
    "alpha = 0.2; beta = 0.5\n",
    "\n",
    "model = \"sir_deathByDisease\"  # sis_deathByDisease, sir_deathByDisease\n",
    "SIRmodel3 = models(model, alpha, beta, states, v, [1,0.5,0.25])\n",
    "SIRmodel3.birthRate = br; SIRmodel3.probabilityOfDyingByAgeGroup = mr\n",
    "SIRmodel3.deathFromDiseaseByAgeRange = ranges_dead\n",
    "SIRmodel3.systemAges = ages; SIRmodel3.annualUnit = 6\n",
    "\n",
    "SIRmodel3.plotMediumCurves(0.1, 30, 100, f\"Modelo {model[:3]} con muerte por enfermedad sobre el sistema\")\n",
    "#SIRmodel.metricsPlot(30, f\"Modelo {model[:3]} con natalidad y mortalidad sobre el sistema\") "
   ]
  },
  {
   "cell_type": "code",
   "execution_count": null,
   "id": "6764756b-7f1d-4e53-8d3f-ff9a1c1c63c4",
   "metadata": {},
   "outputs": [],
   "source": [
    "mr = [[1,100,0.005]]\n",
    "ranges_dead = [[1,15,0.005],[16,48,0.01],[49,55,0.1],[56,100,0.2]]\n",
    "br = 2\n",
    "\n",
    "alpha = 0.2; beta = 0.5\n",
    "\n",
    "model = \"sir_deathByDisease\"  # sis_deathByDisease, sir_deathByDisease\n",
    "SIRmodel4 = models(model, alpha, beta, states, v, [0.5,0.25,0.125])\n",
    "SIRmodel4.birthRate = br; SIRmodel4.probabilityOfDyingByAgeGroup = mr\n",
    "SIRmodel4.deathFromDiseaseByAgeRange = ranges_dead\n",
    "SIRmodel4.systemAges = ages; SIRmodel4.annualUnit = 6\n",
    "\n",
    "SIRmodel4.plotMediumCurves(0.1, 30, 100, f\"Modelo {model[:3]} con muerte por enfermedad sobre el sistema\")\n",
    "#SIRmodel.metricsPlot(30, f\"Modelo {model[:3]} con natalidad y mortalidad sobre el sistema\") "
   ]
  },
  {
   "cell_type": "code",
   "execution_count": null,
   "id": "0def33c0-3025-4f63-b9d3-585454889f6a",
   "metadata": {},
   "outputs": [],
   "source": [
    "mr = [[1,100,0.005]]\n",
    "ranges_dead = [[1,15,0.005],[16,48,0.01],[49,55,0.1],[56,100,0.2]]\n",
    "br = 2\n",
    "\n",
    "alpha = 0.2; beta = 0.5\n",
    "\n",
    "model = \"sir_deathByDisease\"  # sis_deathByDisease, sir_deathByDisease\n",
    "SIRmodel5 = models(model, alpha, beta, states, v, [1,0.005,0.0025])\n",
    "SIRmodel5.birthRate = br; SIRmodel5.probabilityOfDyingByAgeGroup = mr\n",
    "SIRmodel5.deathFromDiseaseByAgeRange = ranges_dead\n",
    "SIRmodel5.systemAges = ages; SIRmodel5.annualUnit = 6\n",
    "\n",
    "SIRmodel5.plotMediumCurves(0.1, 30, 100, f\"Modelo {model[:3]} con muerte por enfermedad sobre el sistema\")\n",
    "#SIRmodel.metricsPlot(30, f\"Modelo {model[:3]} con natalidad y mortalidad sobre el sistema\") "
   ]
  },
  {
   "cell_type": "code",
   "execution_count": null,
   "id": "faf3e17a-0c87-4307-9615-5be0fcb8dfc4",
   "metadata": {},
   "outputs": [],
   "source": [
    "mr = [[1,100,0.005]]\n",
    "ranges_dead = [[1,15,0.005],[16,48,0.01],[49,55,0.1],[56,100,0.2]]\n",
    "br = 2\n",
    "\n",
    "alpha = 0.2; beta = 0.5\n",
    "\n",
    "model = \"sir_deathByDisease\"  # sis_deathByDisease, sir_deathByDisease\n",
    "SIRmodel6 = models(model, alpha, beta, states, v, [0.5,0.005,0.25])\n",
    "SIRmodel6.birthRate = br; SIRmodel6.probabilityOfDyingByAgeGroup = mr\n",
    "SIRmodel6.deathFromDiseaseByAgeRange = ranges_dead\n",
    "SIRmodel6.systemAges = ages; SIRmodel6.annualUnit = 6\n",
    "\n",
    "SIRmodel6.plotMediumCurves(0.1, 30, 100, f\"Modelo {model[:3]} con muerte por enfermedad sobre el sistema\")\n",
    "#SIRmodel.metricsPlot(30, f\"Modelo {model[:3]} con natalidad y mortalidad sobre el sistema\") "
   ]
  },
  {
   "cell_type": "code",
   "execution_count": null,
   "id": "0631763b-6229-41f8-bd60-4d1bffcd6643",
   "metadata": {},
   "outputs": [],
   "source": [
    "mr = [[1,100,0.005]]\n",
    "ranges_dead = [[1,15,0.005],[16,48,0.01],[49,55,0.1],[56,100,0.2]]\n",
    "br = 2\n",
    "\n",
    "alpha = 0.2; beta = 0.5\n",
    "\n",
    "model = \"sir_deathByDisease\"  # sis_deathByDisease, sir_deathByDisease\n",
    "SIRmodel7 = models(model, alpha, beta, states, v, [0.5,0.005,0.0025])\n",
    "SIRmodel7.birthRate = br; SIRmodel7.probabilityOfDyingByAgeGroup = mr\n",
    "SIRmodel7.deathFromDiseaseByAgeRange = ranges_dead\n",
    "SIRmodel7.systemAges = ages; SIRmodel7.annualUnit = 6\n",
    "\n",
    "SIRmodel7.plotMediumCurves(0.1, 30, 100, f\"Modelo {model[:3]} con muerte por enfermedad sobre el sistema\")\n",
    "#SIRmodel.metricsPlot(30, f\"Modelo {model[:3]} con natalidad y mortalidad sobre el sistema\") "
   ]
  },
  {
   "cell_type": "code",
   "execution_count": null,
   "id": "5cc0474d-2bac-4b92-b6aa-0713444ca50d",
   "metadata": {},
   "outputs": [],
   "source": [
    "SIRmodel.evolutionsPlot(30,0)"
   ]
  },
  {
   "cell_type": "code",
   "execution_count": null,
   "id": "ecd5f9f7-e61e-43ac-854f-7bf5947a9fa9",
   "metadata": {},
   "outputs": [],
   "source": [
    "SIRmodel.evolutionsPlot(30,1)"
   ]
  },
  {
   "cell_type": "code",
   "execution_count": null,
   "id": "ee30e20b-6eb9-42cc-9f36-87c8ace2f030",
   "metadata": {},
   "outputs": [],
   "source": [
    "SIRmodel.evolutionsPlot(30,2)"
   ]
  },
  {
   "cell_type": "code",
   "execution_count": null,
   "id": "86b8019c-9ee8-4a7d-b613-8d4df274bd31",
   "metadata": {},
   "outputs": [],
   "source": [
    "SIRmodel.evolutionsPlot(30,3)"
   ]
  },
  {
   "cell_type": "code",
   "execution_count": null,
   "id": "5990e0af-3a9d-404c-9ee4-b3f4da4ffbc8",
   "metadata": {},
   "outputs": [],
   "source": [
    "SIRmodel.evolutionsPlot(30,4)"
   ]
  },
  {
   "cell_type": "code",
   "execution_count": null,
   "id": "35964b24-164f-478e-b7b8-80219d921303",
   "metadata": {},
   "outputs": [],
   "source": [
    "SIRmodel.evolutionsPlot(30,5)"
   ]
  },
  {
   "cell_type": "code",
   "execution_count": null,
   "id": "5a0c4102-794c-4d1c-b89f-53cede5756a1",
   "metadata": {},
   "outputs": [],
   "source": [
    "SIRmodel.evolutionsPlot(30,6)"
   ]
  },
  {
   "cell_type": "code",
   "execution_count": null,
   "id": "069dcf37-f4d7-4a3e-946a-4160ba2c8e1d",
   "metadata": {},
   "outputs": [],
   "source": [
    "SIRmodel.evolutionsPlot(30,7)"
   ]
  },
  {
   "cell_type": "code",
   "execution_count": null,
   "id": "7b985c64-9549-4b1b-aa8f-1a75532c8396",
   "metadata": {},
   "outputs": [],
   "source": [
    "SIRmodel.evolutionsPlot(30,8)"
   ]
  },
  {
   "cell_type": "code",
   "execution_count": null,
   "id": "24266527-86b6-45cf-b157-201134a2b862",
   "metadata": {},
   "outputs": [],
   "source": [
    "SIRmodel.evolutionsPlot(30,9)"
   ]
  },
  {
   "cell_type": "code",
   "execution_count": null,
   "id": "40849b7c-bd9c-44c7-b0d0-d57361eb2d54",
   "metadata": {},
   "outputs": [],
   "source": [
    "SIRmodel.evolutionsPlot(30,10)"
   ]
  },
  {
   "cell_type": "code",
   "execution_count": null,
   "id": "d47a9995-74fe-414c-92e8-ea69e8f13aaf",
   "metadata": {},
   "outputs": [],
   "source": [
    "SIRmodel.evolutionsPlot(30,11)"
   ]
  },
  {
   "cell_type": "code",
   "execution_count": null,
   "id": "30d8d040-6c28-4fcb-922e-2868ae30b060",
   "metadata": {},
   "outputs": [],
   "source": [
    "SIRmodel.evolutionsPlot(30,12)"
   ]
  },
  {
   "cell_type": "code",
   "execution_count": null,
   "id": "fa273153-f2f0-4df2-96b7-7efc74cfaf41",
   "metadata": {},
   "outputs": [],
   "source": [
    "SIRmodel.evolutionsPlot(30,13)"
   ]
  },
  {
   "cell_type": "code",
   "execution_count": null,
   "id": "22170c6b-2b00-4241-bfbc-75d443a6604d",
   "metadata": {},
   "outputs": [],
   "source": [
    "SIRmodel.evolutionsPlot(30,14)"
   ]
  },
  {
   "cell_type": "code",
   "execution_count": null,
   "id": "b624e16c-1126-4bd8-acc7-f40b1cc211ab",
   "metadata": {},
   "outputs": [],
   "source": [
    "SIRmodel.evolutionsPlot(30,15)"
   ]
  },
  {
   "cell_type": "code",
   "execution_count": null,
   "id": "7f0b462c-635d-4d5b-b4eb-d611f91ab64e",
   "metadata": {},
   "outputs": [],
   "source": [
    "SIRmodel.evolutionsPlot(30,16)"
   ]
  },
  {
   "cell_type": "code",
   "execution_count": null,
   "id": "057fefb5-71cc-4500-919a-05eb8b12e59f",
   "metadata": {},
   "outputs": [],
   "source": [
    "SIRmodel.evolutionsPlot(30,17)"
   ]
  },
  {
   "cell_type": "code",
   "execution_count": null,
   "id": "b44eddfb-85be-49cc-8b8e-1aa81ec2d5c9",
   "metadata": {},
   "outputs": [],
   "source": [
    "SIRmodel.evolutionsPlot(30,18)"
   ]
  },
  {
   "cell_type": "code",
   "execution_count": null,
   "id": "fcc9b2c0-97a3-4f99-93c5-d58e06bc4af5",
   "metadata": {},
   "outputs": [],
   "source": [
    "SIRmodel.evolutionsPlot(30,19)"
   ]
  },
  {
   "cell_type": "code",
   "execution_count": null,
   "id": "50498a21-390d-4ddc-bc7b-0aca1d574008",
   "metadata": {},
   "outputs": [],
   "source": [
    "SIRmodel.evolutionsPlot(30,20)"
   ]
  },
  {
   "cell_type": "code",
   "execution_count": null,
   "id": "cf39c8e7-21c2-4f0f-a489-e36b7943beaf",
   "metadata": {},
   "outputs": [],
   "source": [
    "SIRmodel.evolutionsPlot(30,21)"
   ]
  },
  {
   "cell_type": "code",
   "execution_count": null,
   "id": "294c0ebc-3953-4c46-97b7-76eddbb1c000",
   "metadata": {},
   "outputs": [],
   "source": [
    "SIRmodel.evolutionsPlot(30,22)"
   ]
  },
  {
   "cell_type": "code",
   "execution_count": null,
   "id": "365cef50-a640-4349-a1f9-12c440b16198",
   "metadata": {},
   "outputs": [],
   "source": [
    "SIRmodel.evolutionsPlot(30,23)"
   ]
  },
  {
   "cell_type": "code",
   "execution_count": null,
   "id": "ae50fdc3-f446-4766-bd01-5de044a23089",
   "metadata": {},
   "outputs": [],
   "source": [
    "SIRmodel.evolutionsPlot(30,24)"
   ]
  },
  {
   "cell_type": "code",
   "execution_count": null,
   "id": "d98fb8fd-792f-4342-aa14-fccd75d50b86",
   "metadata": {},
   "outputs": [],
   "source": [
    "SIRmodel.evolutionsPlot(30,25)"
   ]
  },
  {
   "cell_type": "code",
   "execution_count": null,
   "id": "d3ddc423-3720-4edd-9ba8-68ec67fdb35f",
   "metadata": {},
   "outputs": [],
   "source": [
    "SIRmodel.evolutionsPlot(30,26)"
   ]
  },
  {
   "cell_type": "code",
   "execution_count": null,
   "id": "20c12fd1-4b8e-4478-a908-75c85db166b7",
   "metadata": {},
   "outputs": [],
   "source": [
    "SIRmodel.evolutionsPlot(30,27)"
   ]
  },
  {
   "cell_type": "code",
   "execution_count": null,
   "id": "57e63deb-6ef0-4bb0-ac4f-0b9bd42c920f",
   "metadata": {},
   "outputs": [],
   "source": [
    "SIRmodel.evolutionsPlot(30,28)"
   ]
  },
  {
   "cell_type": "code",
   "execution_count": null,
   "id": "ccdd5d98-4052-41c1-acbb-b8a6ae7ff7d5",
   "metadata": {},
   "outputs": [],
   "source": [
    "SIRmodel.evolutionsPlot(30,29)"
   ]
  },
  {
   "cell_type": "code",
   "execution_count": null,
   "id": "abee4785-4686-4479-9880-985372398e70",
   "metadata": {},
   "outputs": [],
   "source": []
  },
  {
   "cell_type": "code",
   "execution_count": null,
   "id": "4e703248-e309-41ab-ad5a-0d98df4004c4",
   "metadata": {},
   "outputs": [],
   "source": []
  }
 ],
 "metadata": {
  "kernelspec": {
   "display_name": "Python 3",
   "language": "python",
   "name": "python3"
  },
  "language_info": {
   "codemirror_mode": {
    "name": "ipython",
    "version": 3
   },
   "file_extension": ".py",
   "mimetype": "text/x-python",
   "name": "python",
   "nbconvert_exporter": "python",
   "pygments_lexer": "ipython3",
   "version": "3.8.8"
  }
 },
 "nbformat": 4,
 "nbformat_minor": 5
}
