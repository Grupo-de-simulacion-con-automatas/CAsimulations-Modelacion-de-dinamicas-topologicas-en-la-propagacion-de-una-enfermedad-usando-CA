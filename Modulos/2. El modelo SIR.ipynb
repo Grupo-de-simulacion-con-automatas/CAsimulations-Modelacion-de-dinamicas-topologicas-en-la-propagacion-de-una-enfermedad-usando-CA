{
 "cells": [
  {
   "cell_type": "code",
   "execution_count": null,
   "id": "4371b5a8-3d59-42a6-b66c-e4863f9ebf10",
   "metadata": {},
   "outputs": [],
   "source": [
    "# Parámetros del modelo:\n",
    "\n",
    "alpha =  0.2 # Tasa de recuperación (días que dura en promedio la enfermedad)\n",
    "mu = 1/(75*365) # Tasa de natalidad / mortalidad\n",
    "theta = 0.4 # 0.1 # Tasa de muerte por enfermedad\n",
    "# beta = -alpha*(1-theta)-mu # Tasa de contagio\n",
    "beta = 0.5\n",
    "\n",
    "# Funciones del modelo:\n",
    "\n",
    "def S_function(values, beta=beta, mu = mu, theta = theta):\n",
    "    S = values[0]; I = values[1]\n",
    "    return mu*(1 - S) - beta*S*I + alpha*theta*I\n",
    "\n",
    "def I_function(values, alpha=alpha, beta=beta, mu = mu, theta = theta):\n",
    "    S = values[0]; I = values[1]\n",
    "    return beta*S*I - I*(alpha + mu)\n",
    "\n",
    "def R_function(values, alpha=alpha, mu = mu, theta = theta):\n",
    "    I = values[1]; R = values[2]\n",
    "    return (1 - theta)*alpha*I - mu*R\n",
    "\n",
    "listOfFunctions = [S_function, I_function, R_function]\n",
    "\n",
    "# Condiciones iniciales:\n",
    "\n",
    "initialValues = [0.9, 0.1, 0] # S_0 = 0.9; I_0 = 0.1; R_0 = 0\n",
    "\n",
    "# Solución discreta del modelo:\n",
    "\n",
    "discreteSolutions = CompartmentalModelsInEDOS(listOfFunctions, initialValues)\n",
    "discreteSolutions.n_iterations(1100)\n",
    "discreteSolutions.titlePlot = \"Modelo SIR\"\n",
    "discreteSolutions.plotSolutions([\"Susceptibles\", \"Infectados\", \"Recuperados\"],[\"y\", \"r\", \"g\"])"
   ]
  }
 ],
 "metadata": {
  "kernelspec": {
   "display_name": "Python 3",
   "language": "python",
   "name": "python3"
  },
  "language_info": {
   "codemirror_mode": {
    "name": "ipython",
    "version": 3
   },
   "file_extension": ".py",
   "mimetype": "text/x-python",
   "name": "python",
   "nbconvert_exporter": "python",
   "pygments_lexer": "ipython3",
   "version": "3.8.8"
  }
 },
 "nbformat": 4,
 "nbformat_minor": 5
}
